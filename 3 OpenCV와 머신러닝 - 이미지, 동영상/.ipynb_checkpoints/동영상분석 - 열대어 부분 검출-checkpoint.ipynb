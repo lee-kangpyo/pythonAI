{
 "cells": [
  {
   "cell_type": "markdown",
   "metadata": {},
   "source": [
    "# 동영상 분석\n",
    "## 웹카메라의 이미지를 실시간으로 출력하기"
   ]
  },
  {
   "cell_type": "code",
   "execution_count": 36,
   "metadata": {},
   "outputs": [],
   "source": [
    "import cv2\n",
    "import numpy as np\n",
    "\n",
    "# 웹카메라로부터 입력받기\n",
    "cap = cv2.VideoCapture(0)\n",
    "while True:\n",
    "    #카메라로부터 이미지 읽기\n",
    "    _, frame = cap.read()\n",
    "    #이미지를 축소하기\n",
    "    frame = cv2.resize(frame, (500,300))\n",
    "    #윈도우에 이미지 출력하기\n",
    "    cv2.imshow('OpenCV Web Camera - press ENTER OR ESC -> EXIT', frame)\n",
    "    # ESC 또는 Enter키가 입력되면 반복 종료하기\n",
    "    k = cv2.waitKey(1) # 1m sec 대기\n",
    "    if k == 27 or k == 13: break\n",
    "        \n",
    "cap.release()\n",
    "cv2.destroyAllWindows() # 윈도우 제거하기\n",
    "    "
   ]
  },
  {
   "cell_type": "markdown",
   "metadata": {},
   "source": [
    "## 카메라 이미지에서 붉은색 성분만 추출하기 "
   ]
  },
  {
   "cell_type": "markdown",
   "metadata": {},
   "source": [
    "    frame 은 3차원 객체로 [:,:,0] 은 가장 처음 차원에 모든 요소를 선택후 두번째 차원의 모든 요소를 선택 \n",
    "    그리고 가장 마지막 차원의 첫번째 요소들만 적용\n",
    "    예제 > [[[1, 2, 3],[4, 5, 6],[7, 8, 9], ... [x, y, z] ]] -> 1, 4, 7 번 위치에 있는 요소(x위치)들만 0으로 적용함"
   ]
  },
  {
   "cell_type": "code",
   "execution_count": 19,
   "metadata": {},
   "outputs": [],
   "source": [
    "import cv2\n",
    "import numpy as np\n",
    "\n",
    "# 웹카메라로부터 입력받기\n",
    "cap = cv2.VideoCapture(0)\n",
    "while True:\n",
    "    #카메라로부터 이미지 읽기\n",
    "    _, frame = cap.read()\n",
    "    #이미지를 축소하기\n",
    "    frame = cv2.resize(frame, (500,300))\n",
    "    #파란색과 녹색 부분 제거하기\n",
    "    frame[:,:,0] = 0\n",
    "    frame[:,:,1] = 0\n",
    "    #윈도우에 이미지 출력하기\n",
    "    cv2.imshow('red Camera - press ENTER OR ESC -> EXIT', frame)\n",
    "    # ESC 또는 Enter키가 입력되면 반복 종료하기\n",
    "    k = cv2.waitKey(1) # 1m sec 대기\n",
    "    if k == 27 or k == 13: break\n",
    "        \n",
    "cap.release()\n",
    "cv2.destroyAllWindows() # 윈도우 제거하기"
   ]
  },
  {
   "cell_type": "markdown",
   "metadata": {},
   "source": [
    "## HSV 색공간을 사용해 색 검출하기\n",
    "### 위의 방법은 붉은 부분이 추출된거 같지는않다. \n",
    "### HSV 방법은 색상(Hue), 채도(Saturation), 명도(Value Brightness)라는 3가지 값을 사용해 색을 표현하는 방법"
   ]
  },
  {
   "cell_type": "code",
   "execution_count": 4,
   "metadata": {},
   "outputs": [],
   "source": [
    "import cv2\n",
    "import numpy as np\n",
    "\n",
    "# 웹카메라로부터 입력받기\n",
    "cap = cv2.VideoCapture(0)\n",
    "while True:\n",
    "    #카메라로부터 이미지 읽기\n",
    "    _, frame = cap.read()\n",
    "    #이미지를 축소하기\n",
    "    frame = cv2.resize(frame, (500,300))\n",
    "    #색공간을 HSV로 변환하기\n",
    "    hsv = cv2.cvtColor(frame, cv2.COLOR_BGR2HSV_FULL)\n",
    "    # 색분할하기\n",
    "    h = hsv[:, :, 0]\n",
    "    s = hsv[:, :, 1]\n",
    "    v = hsv[:, :, 2]\n",
    "    # 붉은색을 가진 요소만 출력하기\n",
    "    img = np.zeros(h.shape, dtype=np.uint8)\n",
    "    img[((h < 50) | (h > 200)) & (s > 100)] = 255\n",
    "    \n",
    "    #윈도우에 이미지 출력하기\n",
    "    cv2.imshow('red Camera - press ENTER OR ESC -> EXIT', img)\n",
    "    # ESC 또는 Enter키가 입력되면 반복 종료하기\n",
    "    k = cv2.waitKey(1) # 1m sec 대기\n",
    "    if k == 27 or k == 13: break\n",
    "        \n",
    "cap.release()\n",
    "cv2.destroyAllWindows() # 윈도우 제거하기"
   ]
  },
  {
   "cell_type": "markdown",
   "metadata": {},
   "source": [
    "# 화면에 움직임이 있는 부분 추출하기 - cv2.absdiff()"
   ]
  },
  {
   "cell_type": "code",
   "execution_count": 12,
   "metadata": {},
   "outputs": [],
   "source": [
    "import cv2\n",
    "import numpy as np\n",
    "\n",
    "# 웹카메라로부터 입력받기\n",
    "cap = cv2.VideoCapture(0)\n",
    "\n",
    "img_last = None     # 이전 프레임을 저장할 변수\n",
    "green = (0, 255, 0)\n",
    "\n",
    "\n",
    "while True:\n",
    "    #카메라로부터 이미지 읽기\n",
    "    _, frame = cap.read()\n",
    "    #이미지를 축소하기\n",
    "    frame = cv2.resize(frame, (500,300))\n",
    "    #흑백 이미지로 변환하기\n",
    "    gray = cv2.cvtColor(frame, cv2.COLOR_BGR2GRAY)\n",
    "    gray = cv2.GaussianBlur(gray, (9,9), 0)\n",
    "    img_b = cv2.threshold(gray, 100, 255, cv2.THRESH_BINARY)[1]\n",
    "    #차이 확인하기\n",
    "    if img_last is None:\n",
    "        img_last = img_b\n",
    "        continue\n",
    "    frame_diff = cv2.absdiff(img_last, img_b)\n",
    "    cnts = cv2.findContours(frame_diff, cv2.RETR_EXTERNAL, cv2.CHAIN_APPROX_SIMPLE)[0]\n",
    "\n",
    "    #차이가 있는 부분 출력하기\n",
    "    for pt in cnts:\n",
    "        x, y, w, h = cv2.boundingRect(pt)\n",
    "        if w < 50: continue # 작은 변경 무시하기\n",
    "        cv2.rectangle(frame, (x, y), (x+w, y+h), green, 2)\n",
    "    #프레임 변수에 저장해두기\n",
    "    img_last = img_b\n",
    "    \n",
    "    #윈도우에 이미지 출력하기\n",
    "    cv2.imshow('Diff Camera - press ENTER OR ESC -> EXIT', frame)\n",
    "    cv2.imshow('Diff data', frame_diff)\n",
    "    cv2.imshow('Diff data', img_b)\n",
    "    # ESC 또는 Enter키가 입력되면 반복 종료하기\n",
    "    k = cv2.waitKey(1) # 1m sec 대기\n",
    "    if k == 27 or k == 13: break\n",
    "        \n",
    "cap.release()\n",
    "cv2.destroyAllWindows() # 윈도우 제거하기"
   ]
  },
  {
   "cell_type": "code",
   "execution_count": 9,
   "metadata": {},
   "outputs": [],
   "source": [
    "cap.release()"
   ]
  },
  {
   "cell_type": "code",
   "execution_count": null,
   "metadata": {},
   "outputs": [],
   "source": []
  }
 ],
 "metadata": {
  "kernelspec": {
   "display_name": "Python 3",
   "language": "python",
   "name": "python3"
  },
  "language_info": {
   "codemirror_mode": {
    "name": "ipython",
    "version": 3
   },
   "file_extension": ".py",
   "mimetype": "text/x-python",
   "name": "python",
   "nbconvert_exporter": "python",
   "pygments_lexer": "ipython3",
   "version": "3.8.3"
  }
 },
 "nbformat": 4,
 "nbformat_minor": 2
}
