{
 "cells": [
  {
   "cell_type": "code",
   "execution_count": 46,
   "metadata": {},
   "outputs": [],
   "source": [
    "import matplotlib.pyplot as plt\n",
    "\n",
    "# 손글씨 데이터 읽기\n",
    "from sklearn import datasets\n",
    "digits = datasets.load_digits()"
   ]
  },
  {
   "cell_type": "code",
   "execution_count": 49,
   "metadata": {},
   "outputs": [
    {
     "data": {
      "image/png": "[encoded data removed]",
      "text/plain": [
       "<Figure size 432x288 with 15 Axes>"
      ]
     },
     "metadata": {
      "needs_background": "light"
     },
     "output_type": "display_data"
    }
   ],
   "source": [
    "# 15 개만 출력 해보기\n",
    "for i in range(15):\n",
    "    # 3행 X 5열의 판에 순서대로 배치\n",
    "    plt.subplot(3, 5, i+1)\n",
    "    plt.axis(\"off\")\n",
    "    plt.title(str(digits.target[i]))\n",
    "    plt.imshow(digits.images[i], cmap=\"gray\")"
   ]
  },
  {
   "cell_type": "code",
   "execution_count": 69,
   "metadata": {},
   "outputs": [
    {
     "name": "stdout",
     "output_type": "stream",
     "text": [
      "1797\n"
     ]
    },
    {
     "data": {
      "image/png": "[encoded data removed]",
      "text/plain": [
       "<Figure size 432x288 with 1 Axes>"
      ]
     },
     "metadata": {
      "needs_background": "light"
     },
     "output_type": "display_data"
    },
    {
     "name": "stdout",
     "output_type": "stream",
     "text": [
      "[[ 0.  0.  4.  9. 12. 16.  8.  0.]\n",
      " [ 0.  0. 15. 15.  8.  8.  2.  0.]\n",
      " [ 0.  4. 16. 11.  4.  1.  0.  0.]\n",
      " [ 0.  8. 16. 16. 16. 14.  0.  0.]\n",
      " [ 0.  0. 11.  9.  8. 16.  0.  0.]\n",
      " [ 0.  0.  0.  0.  7. 16.  0.  0.]\n",
      " [ 0.  0.  0.  8. 16. 12.  0.  0.]\n",
      " [ 0.  0.  3. 13.  9.  1.  0.  0.]]\n"
     ]
    }
   ],
   "source": [
    "# 이미지 형식\n",
    "print(len(digits.images))\n",
    "d0 = digits.images[1700]\n",
    "plt.imshow(d0)\n",
    "plt.show()\n",
    "print(d0)"
   ]
  },
  {
   "cell_type": "markdown",
   "metadata": {},
   "source": [
    "# 이미지 머신러닝하기\n",
    "## 위에 형식을 보면 이미지 데이터도 연속된 숫자 데이터일뿐이다.\n",
    "## 8X8 픽셀이라면 64개의 숫자 배열데이터라고 보면 됨."
   ]
  },
  {
   "cell_type": "code",
   "execution_count": 31,
   "metadata": {},
   "outputs": [],
   "source": [
    "from sklearn.model_selection import train_test_split\n",
    "from sklearn import datasets, svm, metrics\n",
    "from sklearn.metrics import accuracy_score\n",
    "\n",
    "# 데이터 읽기\n",
    "digits = datasets.load_digits()\n",
    "x = digits.images\n",
    "y = digits.target\n",
    "x = x.reshape((-1, 64)) # 2차원 배열을 1차원 배열로 변환하기"
   ]
  },
  {
   "cell_type": "code",
   "execution_count": 35,
   "metadata": {},
   "outputs": [
    {
     "name": "stdout",
     "output_type": "stream",
     "text": [
      "0.9472222222222222\n"
     ]
    }
   ],
   "source": [
    "# 데이터를 학습 전용과 테스트 전용으로 분리하기\n",
    "x_train, x_test, y_train, y_test = train_test_split(x, y, test_size = 0.2)\n",
    "\n",
    "# 데이터 학습하기\n",
    "clf = svm.LinearSVC(dual=False)\n",
    "clf.fit(x_train, y_train)\n",
    "\n",
    "# 예측하고 정답률 출력하기\n",
    "y_pred = clf.predict(x_test)\n",
    "print(accuracy_score(y_test, y_pred))"
   ]
  },
  {
   "cell_type": "markdown",
   "metadata": {},
   "source": [
    "# 학습한 데이터 저장하기\n",
    "## joblib모듈을 사용한다."
   ]
  },
  {
   "cell_type": "code",
   "execution_count": 55,
   "metadata": {},
   "outputs": [
    {
     "data": {
      "text/plain": [
       "['digits.pkl']"
      ]
     },
     "execution_count": 55,
     "metadata": {},
     "output_type": "execute_result"
    }
   ],
   "source": [
    "# 학습한 데이터 저장하기\n",
    "import joblib\n",
    "joblib.dump(clf, \"digits.pkl\")"
   ]
  },
  {
   "cell_type": "code",
   "execution_count": 56,
   "metadata": {},
   "outputs": [],
   "source": [
    "#학습한 데이터 읽기\n",
    "clf = joblib.load(\"digits.pkl\")"
   ]
  },
  {
   "cell_type": "code",
   "execution_count": 57,
   "metadata": {},
   "outputs": [],
   "source": [
    "# 내가 작성한 이미지 판별하기\n",
    "import cv2\n",
    "import joblib"
   ]
  },
  {
   "cell_type": "code",
   "execution_count": 70,
   "metadata": {},
   "outputs": [],
   "source": [
    "def predict_digit(filename):\n",
    "    #학습한 데이터 읽어오기\n",
    "    clf = joblib.load(\"digits.pkl\")\n",
    "    #직접 그린 손글씨 이미지 읽어오기\n",
    "    my_img = cv2.imread(filename)\n",
    "    # 이미지를 학습에 적합하게 변환하기\n",
    "    my_img = cv2.cvtColor(my_img, cv2.COLOR_BGR2GRAY)\n",
    "    my_img = cv2.resize(my_img, (8, 8))\n",
    "    my_img = 15 - my_img // 16 # 흑백 반전\n",
    "    # 2차원 배열을 1차원 배열로 변환\n",
    "    my_img = my_img.reshape((-1, 64))\n",
    "    #데이터 예측하기\n",
    "    res = clf.predict(my_img)\n",
    "    return res[0]"
   ]
  },
  {
   "cell_type": "code",
   "execution_count": 71,
   "metadata": {},
   "outputs": [
    {
     "name": "stdout",
     "output_type": "stream",
     "text": [
      "4\n",
      "4\n",
      "6\n"
     ]
    }
   ],
   "source": [
    "# 이미지 파일을 지정해서 실행하기\n",
    "n = predict_digit(\"2.png\")\n",
    "print(n)\n",
    "n = predict_digit(\"4.png\")\n",
    "print(n)\n",
    "n = predict_digit(\"5.png\")\n",
    "print(n)"
   ]
  }
 ],
 "metadata": {
  "kernelspec": {
   "display_name": "Python 3",
   "language": "python",
   "name": "python3"
  },
  "language_info": {
   "codemirror_mode": {
    "name": "ipython",
    "version": 3
   },
   "file_extension": ".py",
   "mimetype": "text/x-python",
   "name": "python",
   "nbconvert_exporter": "python",
   "pygments_lexer": "ipython3",
   "version": "3.7.4"
  }
 },
 "nbformat": 4,
 "nbformat_minor": 2
}
