{
 "cells": [
  {
   "cell_type": "code",
   "execution_count": 4,
   "metadata": {},
   "outputs": [],
   "source": [
    "# 케라스 함수 호출\n",
    "from tensorflow.keras.models import Sequential\n",
    "from tensorflow.keras.layers import Dense\n",
    "# 필요한 라이브러리 불러오기\n",
    "import numpy as np\n",
    "import tensorflow as tf"
   ]
  },
  {
   "cell_type": "code",
   "execution_count": 5,
   "metadata": {},
   "outputs": [],
   "source": [
    "# 같은 결과를 출력하기 위한 설정\n",
    "np.random.seed(3)\n",
    "tf.random.set_seed(3)"
   ]
  },
  {
   "cell_type": "code",
   "execution_count": 6,
   "metadata": {},
   "outputs": [
    {
     "data": {
      "text/plain": [
       "array([[293.  ,   1.  ,   3.8 , ...,   0.  ,  62.  ,   0.  ],\n",
       "       [  1.  ,   2.  ,   2.88, ...,   0.  ,  60.  ,   0.  ],\n",
       "       [  8.  ,   2.  ,   3.19, ...,   0.  ,  66.  ,   1.  ],\n",
       "       ...,\n",
       "       [406.  ,   6.  ,   5.36, ...,   0.  ,  62.  ,   0.  ],\n",
       "       [ 25.  ,   8.  ,   4.32, ...,   0.  ,  58.  ,   1.  ],\n",
       "       [447.  ,   8.  ,   5.2 , ...,   0.  ,  49.  ,   0.  ]])"
      ]
     },
     "execution_count": 6,
     "metadata": {},
     "output_type": "execute_result"
    }
   ],
   "source": [
    "# 준비된 수술 환자 데이터를 불러오기\n",
    "data_set = np.loadtxt('./dataset/ThoraricSurgery.csv', delimiter=\",\")\n",
    "data_set"
   ]
  },
  {
   "cell_type": "code",
   "execution_count": 9,
   "metadata": {},
   "outputs": [],
   "source": [
    "# 환자의 기록과 수술결과를 x 와 y 로 구분하여 저장\n",
    "x = data_set[:, 0:17]\n",
    "y = data_set[:, -1]"
   ]
  },
  {
   "cell_type": "code",
   "execution_count": 41,
   "metadata": {},
   "outputs": [],
   "source": [
    "# 딥러닝 구조를 결정\n",
    "model = Sequential()\n",
    "model.add(Dense(30, input_dim=17, activation = \"relu\"))\n",
    "model.add(Dense(1, activation = \"sigmoid\"))"
   ]
  },
  {
   "cell_type": "code",
   "execution_count": 42,
   "metadata": {},
   "outputs": [
    {
     "name": "stdout",
     "output_type": "stream",
     "text": [
      "Model: \"sequential_4\"\n",
      "_________________________________________________________________\n",
      "Layer (type)                 Output Shape              Param #   \n",
      "=================================================================\n",
      "dense_9 (Dense)              (None, 30)                540       \n",
      "_________________________________________________________________\n",
      "dense_10 (Dense)             (None, 1)                 31        \n",
      "=================================================================\n",
      "Total params: 571\n",
      "Trainable params: 571\n",
      "Non-trainable params: 0\n",
      "_________________________________________________________________\n"
     ]
    }
   ],
   "source": [
    "#딥러닝 실행\n",
    "model.compile(loss=\"binary_crossentropy\", optimizer=\"adam\", metrics=['accuracy'])\n",
    "model.summary()\n"
   ]
  },
  {
   "cell_type": "code",
   "execution_count": 43,
   "metadata": {},
   "outputs": [
    {
     "name": "stdout",
     "output_type": "stream",
     "text": [
      "Epoch 1/100\n",
      "33/33 [==============================] - 1s 17ms/step - loss: 14.5668 - accuracy: 0.2128 - val_loss: 1.8716 - val_accuracy: 0.8298\n",
      "Epoch 2/100\n",
      "33/33 [==============================] - 0s 3ms/step - loss: 2.2875 - accuracy: 0.6535 - val_loss: 1.8247 - val_accuracy: 0.8440\n",
      "Epoch 3/100\n",
      "33/33 [==============================] - 0s 3ms/step - loss: 1.4809 - accuracy: 0.7204 - val_loss: 0.9510 - val_accuracy: 0.8582\n",
      "Epoch 4/100\n",
      "33/33 [==============================] - 0s 3ms/step - loss: 0.8273 - accuracy: 0.7173 - val_loss: 0.5453 - val_accuracy: 0.8652\n",
      "Epoch 5/100\n",
      "33/33 [==============================] - 0s 3ms/step - loss: 0.5844 - accuracy: 0.7933 - val_loss: 0.4878 - val_accuracy: 0.8723\n",
      "Epoch 6/100\n",
      "33/33 [==============================] - 0s 3ms/step - loss: 0.5398 - accuracy: 0.8328 - val_loss: 0.4063 - val_accuracy: 0.8723\n",
      "Epoch 7/100\n",
      "33/33 [==============================] - 0s 3ms/step - loss: 0.5055 - accuracy: 0.8359 - val_loss: 0.4800 - val_accuracy: 0.8582\n",
      "Epoch 8/100\n",
      "33/33 [==============================] - 0s 3ms/step - loss: 0.4854 - accuracy: 0.8419 - val_loss: 0.3989 - val_accuracy: 0.8723\n",
      "Epoch 9/100\n",
      "33/33 [==============================] - 0s 4ms/step - loss: 0.4829 - accuracy: 0.8359 - val_loss: 0.3853 - val_accuracy: 0.8723\n",
      "Epoch 10/100\n",
      "33/33 [==============================] - 0s 4ms/step - loss: 0.4642 - accuracy: 0.8419 - val_loss: 0.6768 - val_accuracy: 0.5461\n",
      "Epoch 11/100\n",
      "33/33 [==============================] - 0s 3ms/step - loss: 0.5098 - accuracy: 0.8207 - val_loss: 0.3788 - val_accuracy: 0.8723\n",
      "Epoch 12/100\n",
      "33/33 [==============================] - 0s 4ms/step - loss: 0.5056 - accuracy: 0.8389 - val_loss: 0.3785 - val_accuracy: 0.8723\n",
      "Epoch 13/100\n",
      "33/33 [==============================] - 0s 4ms/step - loss: 0.4653 - accuracy: 0.8419 - val_loss: 0.3823 - val_accuracy: 0.8723\n",
      "Epoch 14/100\n",
      "33/33 [==============================] - 0s 4ms/step - loss: 0.4834 - accuracy: 0.8328 - val_loss: 0.5638 - val_accuracy: 0.8723\n",
      "Epoch 15/100\n",
      "33/33 [==============================] - 0s 4ms/step - loss: 0.4989 - accuracy: 0.8359 - val_loss: 0.8855 - val_accuracy: 0.3475\n",
      "Epoch 16/100\n",
      "33/33 [==============================] - 0s 4ms/step - loss: 0.4749 - accuracy: 0.8207 - val_loss: 0.3875 - val_accuracy: 0.8723\n",
      "Epoch 17/100\n",
      "33/33 [==============================] - 0s 4ms/step - loss: 0.4470 - accuracy: 0.8419 - val_loss: 0.5268 - val_accuracy: 0.8156\n",
      "Epoch 18/100\n",
      "33/33 [==============================] - 0s 4ms/step - loss: 0.4608 - accuracy: 0.8389 - val_loss: 0.5343 - val_accuracy: 0.8156\n",
      "Epoch 19/100\n",
      "33/33 [==============================] - 0s 4ms/step - loss: 0.4498 - accuracy: 0.8298 - val_loss: 0.3816 - val_accuracy: 0.8723\n",
      "Epoch 20/100\n",
      "33/33 [==============================] - 0s 4ms/step - loss: 0.4535 - accuracy: 0.8389 - val_loss: 0.3840 - val_accuracy: 0.8723\n",
      "Epoch 21/100\n",
      "33/33 [==============================] - 0s 4ms/step - loss: 0.4459 - accuracy: 0.8389 - val_loss: 0.4624 - val_accuracy: 0.8582\n",
      "Epoch 22/100\n",
      "33/33 [==============================] - 0s 4ms/step - loss: 0.4561 - accuracy: 0.8328 - val_loss: 0.4753 - val_accuracy: 0.8298\n",
      "Epoch 23/100\n",
      "33/33 [==============================] - 0s 3ms/step - loss: 0.4369 - accuracy: 0.8419 - val_loss: 0.4040 - val_accuracy: 0.8723\n",
      "Epoch 24/100\n",
      "33/33 [==============================] - 0s 4ms/step - loss: 0.4453 - accuracy: 0.8267 - val_loss: 0.3769 - val_accuracy: 0.8723\n",
      "Epoch 25/100\n",
      "33/33 [==============================] - 0s 4ms/step - loss: 0.4339 - accuracy: 0.8419 - val_loss: 0.4007 - val_accuracy: 0.8723\n",
      "Epoch 26/100\n",
      "33/33 [==============================] - 0s 4ms/step - loss: 0.4528 - accuracy: 0.8389 - val_loss: 0.4306 - val_accuracy: 0.8652\n",
      "Epoch 27/100\n",
      "33/33 [==============================] - 0s 3ms/step - loss: 0.4374 - accuracy: 0.8419 - val_loss: 0.3901 - val_accuracy: 0.8723\n",
      "Epoch 28/100\n",
      "33/33 [==============================] - 0s 4ms/step - loss: 0.4301 - accuracy: 0.8419 - val_loss: 0.3843 - val_accuracy: 0.8723\n",
      "Epoch 29/100\n",
      "33/33 [==============================] - 0s 3ms/step - loss: 0.4978 - accuracy: 0.8267 - val_loss: 0.3939 - val_accuracy: 0.8723\n",
      "Epoch 30/100\n",
      "33/33 [==============================] - 0s 3ms/step - loss: 0.4664 - accuracy: 0.8267 - val_loss: 0.3954 - val_accuracy: 0.8723\n",
      "Epoch 31/100\n",
      "33/33 [==============================] - 0s 3ms/step - loss: 0.4741 - accuracy: 0.8328 - val_loss: 0.6502 - val_accuracy: 0.6312\n",
      "Epoch 32/100\n",
      "33/33 [==============================] - 0s 3ms/step - loss: 0.4566 - accuracy: 0.8419 - val_loss: 0.3859 - val_accuracy: 0.8723\n",
      "Epoch 33/100\n",
      "33/33 [==============================] - 0s 3ms/step - loss: 0.4269 - accuracy: 0.8389 - val_loss: 0.3878 - val_accuracy: 0.8723\n",
      "Epoch 34/100\n",
      "33/33 [==============================] - 0s 3ms/step - loss: 0.4580 - accuracy: 0.8207 - val_loss: 0.5177 - val_accuracy: 0.8723\n",
      "Epoch 35/100\n",
      "33/33 [==============================] - 0s 4ms/step - loss: 0.4429 - accuracy: 0.8419 - val_loss: 0.6068 - val_accuracy: 0.7021\n",
      "Epoch 36/100\n",
      "33/33 [==============================] - 0s 3ms/step - loss: 0.4331 - accuracy: 0.8389 - val_loss: 0.3852 - val_accuracy: 0.8723\n",
      "Epoch 37/100\n",
      "33/33 [==============================] - 0s 3ms/step - loss: 0.4471 - accuracy: 0.8267 - val_loss: 0.4338 - val_accuracy: 0.8723\n",
      "Epoch 38/100\n",
      "33/33 [==============================] - 0s 3ms/step - loss: 0.4501 - accuracy: 0.8419 - val_loss: 0.3848 - val_accuracy: 0.8723\n",
      "Epoch 39/100\n",
      "33/33 [==============================] - 0s 3ms/step - loss: 0.4611 - accuracy: 0.8267 - val_loss: 0.4250 - val_accuracy: 0.8723\n",
      "Epoch 40/100\n",
      "33/33 [==============================] - 0s 3ms/step - loss: 0.4614 - accuracy: 0.8298 - val_loss: 0.3856 - val_accuracy: 0.8723\n",
      "Epoch 41/100\n",
      "33/33 [==============================] - 0s 3ms/step - loss: 0.4202 - accuracy: 0.8389 - val_loss: 0.3968 - val_accuracy: 0.8723\n",
      "Epoch 42/100\n",
      "33/33 [==============================] - 0s 3ms/step - loss: 0.4288 - accuracy: 0.8450 - val_loss: 0.6141 - val_accuracy: 0.7163\n",
      "Epoch 43/100\n",
      "33/33 [==============================] - 0s 3ms/step - loss: 0.4398 - accuracy: 0.8359 - val_loss: 0.4904 - val_accuracy: 0.8227\n",
      "Epoch 44/100\n",
      "33/33 [==============================] - 0s 3ms/step - loss: 0.4474 - accuracy: 0.8389 - val_loss: 0.4384 - val_accuracy: 0.8582\n",
      "Epoch 45/100\n",
      "33/33 [==============================] - 0s 3ms/step - loss: 0.4328 - accuracy: 0.8389 - val_loss: 0.5999 - val_accuracy: 0.7092\n",
      "Epoch 46/100\n",
      "33/33 [==============================] - 0s 3ms/step - loss: 0.4235 - accuracy: 0.8328 - val_loss: 0.4032 - val_accuracy: 0.8723\n",
      "Epoch 47/100\n",
      "33/33 [==============================] - 0s 3ms/step - loss: 0.4248 - accuracy: 0.8480 - val_loss: 0.4550 - val_accuracy: 0.8511\n",
      "Epoch 48/100\n",
      "33/33 [==============================] - 0s 3ms/step - loss: 0.4363 - accuracy: 0.8389 - val_loss: 0.3970 - val_accuracy: 0.8723\n",
      "Epoch 49/100\n",
      "33/33 [==============================] - 0s 3ms/step - loss: 0.4217 - accuracy: 0.8450 - val_loss: 0.3904 - val_accuracy: 0.8723\n",
      "Epoch 50/100\n",
      "33/33 [==============================] - 0s 3ms/step - loss: 0.4750 - accuracy: 0.8237 - val_loss: 0.4452 - val_accuracy: 0.8440\n",
      "Epoch 51/100\n",
      "33/33 [==============================] - 0s 3ms/step - loss: 0.4390 - accuracy: 0.8480 - val_loss: 0.4466 - val_accuracy: 0.8582\n",
      "Epoch 52/100\n",
      "33/33 [==============================] - 0s 4ms/step - loss: 0.4114 - accuracy: 0.8359 - val_loss: 0.4132 - val_accuracy: 0.8723\n",
      "Epoch 53/100\n",
      "33/33 [==============================] - 0s 4ms/step - loss: 0.4360 - accuracy: 0.8237 - val_loss: 0.4575 - val_accuracy: 0.8723\n",
      "Epoch 54/100\n",
      "33/33 [==============================] - 0s 4ms/step - loss: 0.4650 - accuracy: 0.8267 - val_loss: 0.4869 - val_accuracy: 0.7943\n",
      "Epoch 55/100\n",
      "33/33 [==============================] - 0s 3ms/step - loss: 0.4275 - accuracy: 0.8328 - val_loss: 0.5882 - val_accuracy: 0.7447\n",
      "Epoch 56/100\n",
      "33/33 [==============================] - 0s 3ms/step - loss: 0.4152 - accuracy: 0.8359 - val_loss: 0.3991 - val_accuracy: 0.8723\n",
      "Epoch 57/100\n",
      "33/33 [==============================] - 0s 3ms/step - loss: 0.4288 - accuracy: 0.8419 - val_loss: 0.4034 - val_accuracy: 0.8723\n",
      "Epoch 58/100\n",
      "33/33 [==============================] - 0s 3ms/step - loss: 0.4248 - accuracy: 0.8480 - val_loss: 0.4062 - val_accuracy: 0.8723\n"
     ]
    },
    {
     "name": "stdout",
     "output_type": "stream",
     "text": [
      "Epoch 59/100\n",
      "33/33 [==============================] - 0s 3ms/step - loss: 0.4136 - accuracy: 0.8419 - val_loss: 0.4220 - val_accuracy: 0.8723\n",
      "Epoch 60/100\n",
      "33/33 [==============================] - 0s 3ms/step - loss: 0.4072 - accuracy: 0.8511 - val_loss: 0.9709 - val_accuracy: 0.3475\n",
      "Epoch 61/100\n",
      "33/33 [==============================] - 0s 3ms/step - loss: 0.4405 - accuracy: 0.8298 - val_loss: 0.4345 - val_accuracy: 0.8723\n",
      "Epoch 62/100\n",
      "33/33 [==============================] - 0s 3ms/step - loss: 0.4261 - accuracy: 0.8419 - val_loss: 0.4106 - val_accuracy: 0.8652\n",
      "Epoch 63/100\n",
      "33/33 [==============================] - 0s 4ms/step - loss: 0.4474 - accuracy: 0.8024 - val_loss: 0.4834 - val_accuracy: 0.8723\n",
      "Epoch 64/100\n",
      "33/33 [==============================] - 0s 4ms/step - loss: 0.4498 - accuracy: 0.8267 - val_loss: 0.4385 - val_accuracy: 0.8723\n",
      "Epoch 65/100\n",
      "33/33 [==============================] - 0s 3ms/step - loss: 0.4552 - accuracy: 0.8237 - val_loss: 0.5591 - val_accuracy: 0.7447\n",
      "Epoch 66/100\n",
      "33/33 [==============================] - 0s 4ms/step - loss: 0.4167 - accuracy: 0.8419 - val_loss: 0.4222 - val_accuracy: 0.8723\n",
      "Epoch 67/100\n",
      "33/33 [==============================] - 0s 4ms/step - loss: 0.4242 - accuracy: 0.8359 - val_loss: 0.4065 - val_accuracy: 0.8723\n",
      "Epoch 68/100\n",
      "33/33 [==============================] - 0s 4ms/step - loss: 0.4889 - accuracy: 0.8146 - val_loss: 0.4893 - val_accuracy: 0.7943\n",
      "Epoch 69/100\n",
      "33/33 [==============================] - 0s 4ms/step - loss: 0.4172 - accuracy: 0.8419 - val_loss: 0.4454 - val_accuracy: 0.8440\n",
      "Epoch 70/100\n",
      "33/33 [==============================] - 0s 4ms/step - loss: 0.4230 - accuracy: 0.8389 - val_loss: 0.4168 - val_accuracy: 0.8723\n",
      "Epoch 71/100\n",
      "33/33 [==============================] - 0s 3ms/step - loss: 0.4281 - accuracy: 0.8389 - val_loss: 0.4638 - val_accuracy: 0.8227\n",
      "Epoch 72/100\n",
      "33/33 [==============================] - 0s 3ms/step - loss: 0.4284 - accuracy: 0.8237 - val_loss: 0.4002 - val_accuracy: 0.8723\n",
      "Epoch 73/100\n",
      "33/33 [==============================] - 0s 3ms/step - loss: 0.4213 - accuracy: 0.8359 - val_loss: 0.4023 - val_accuracy: 0.8723\n",
      "Epoch 74/100\n",
      "33/33 [==============================] - 0s 3ms/step - loss: 0.4188 - accuracy: 0.8389 - val_loss: 0.4146 - val_accuracy: 0.8723\n",
      "Epoch 75/100\n",
      "33/33 [==============================] - 0s 3ms/step - loss: 0.4091 - accuracy: 0.8450 - val_loss: 0.4692 - val_accuracy: 0.8085\n",
      "Epoch 76/100\n",
      "33/33 [==============================] - 0s 3ms/step - loss: 0.4061 - accuracy: 0.8541 - val_loss: 0.4149 - val_accuracy: 0.8723\n",
      "Epoch 77/100\n",
      "33/33 [==============================] - 0s 3ms/step - loss: 0.4346 - accuracy: 0.8389 - val_loss: 0.4791 - val_accuracy: 0.8723\n",
      "Epoch 78/100\n",
      "33/33 [==============================] - 0s 3ms/step - loss: 0.4081 - accuracy: 0.8419 - val_loss: 0.4035 - val_accuracy: 0.8723\n",
      "Epoch 79/100\n",
      "33/33 [==============================] - 0s 3ms/step - loss: 0.4633 - accuracy: 0.8298 - val_loss: 0.4638 - val_accuracy: 0.8723\n",
      "Epoch 80/100\n",
      "33/33 [==============================] - 0s 3ms/step - loss: 0.4548 - accuracy: 0.8267 - val_loss: 0.3993 - val_accuracy: 0.8723\n",
      "Epoch 81/100\n",
      "33/33 [==============================] - 0s 3ms/step - loss: 0.4383 - accuracy: 0.8328 - val_loss: 0.7849 - val_accuracy: 0.5106\n",
      "Epoch 82/100\n",
      "33/33 [==============================] - 0s 3ms/step - loss: 0.4348 - accuracy: 0.8480 - val_loss: 0.4982 - val_accuracy: 0.8723\n",
      "Epoch 83/100\n",
      "33/33 [==============================] - 0s 3ms/step - loss: 0.5354 - accuracy: 0.8146 - val_loss: 0.4011 - val_accuracy: 0.8723\n",
      "Epoch 84/100\n",
      "33/33 [==============================] - 0s 3ms/step - loss: 0.4277 - accuracy: 0.8267 - val_loss: 0.5338 - val_accuracy: 0.7589\n",
      "Epoch 85/100\n",
      "33/33 [==============================] - 0s 3ms/step - loss: 0.4270 - accuracy: 0.8328 - val_loss: 0.4135 - val_accuracy: 0.8723\n",
      "Epoch 86/100\n",
      "33/33 [==============================] - 0s 3ms/step - loss: 0.4463 - accuracy: 0.8450 - val_loss: 0.4347 - val_accuracy: 0.8723\n",
      "Epoch 87/100\n",
      "33/33 [==============================] - 0s 3ms/step - loss: 0.4207 - accuracy: 0.8511 - val_loss: 0.4483 - val_accuracy: 0.8369\n",
      "Epoch 88/100\n",
      "33/33 [==============================] - 0s 3ms/step - loss: 0.4989 - accuracy: 0.8237 - val_loss: 0.4744 - val_accuracy: 0.8723\n",
      "Epoch 89/100\n",
      "33/33 [==============================] - 0s 3ms/step - loss: 0.4642 - accuracy: 0.8176 - val_loss: 0.4208 - val_accuracy: 0.8652\n",
      "Epoch 90/100\n",
      "33/33 [==============================] - ETA: 0s - loss: 0.3961 - accuracy: 0.85 - 0s 3ms/step - loss: 0.4102 - accuracy: 0.8419 - val_loss: 0.4731 - val_accuracy: 0.8085\n",
      "Epoch 91/100\n",
      "33/33 [==============================] - 0s 3ms/step - loss: 0.4230 - accuracy: 0.8419 - val_loss: 0.4584 - val_accuracy: 0.8298\n",
      "Epoch 92/100\n",
      "33/33 [==============================] - 0s 3ms/step - loss: 0.4550 - accuracy: 0.8480 - val_loss: 0.6404 - val_accuracy: 0.7092\n",
      "Epoch 93/100\n",
      "33/33 [==============================] - 0s 3ms/step - loss: 0.4129 - accuracy: 0.8419 - val_loss: 0.4122 - val_accuracy: 0.8723\n",
      "Epoch 94/100\n",
      "33/33 [==============================] - 0s 3ms/step - loss: 0.4361 - accuracy: 0.8267 - val_loss: 0.4449 - val_accuracy: 0.8511\n",
      "Epoch 95/100\n",
      "33/33 [==============================] - 0s 3ms/step - loss: 0.4204 - accuracy: 0.8389 - val_loss: 0.4249 - val_accuracy: 0.8582\n",
      "Epoch 96/100\n",
      "33/33 [==============================] - 0s 3ms/step - loss: 0.4073 - accuracy: 0.8450 - val_loss: 0.4123 - val_accuracy: 0.8652\n",
      "Epoch 97/100\n",
      "33/33 [==============================] - 0s 3ms/step - loss: 0.4318 - accuracy: 0.8419 - val_loss: 0.4350 - val_accuracy: 0.8723\n",
      "Epoch 98/100\n",
      "33/33 [==============================] - 0s 3ms/step - loss: 0.4342 - accuracy: 0.8298 - val_loss: 0.4485 - val_accuracy: 0.8511\n",
      "Epoch 99/100\n",
      "33/33 [==============================] - 0s 3ms/step - loss: 0.4301 - accuracy: 0.8298 - val_loss: 0.4158 - val_accuracy: 0.8723\n",
      "Epoch 100/100\n",
      "33/33 [==============================] - 0s 3ms/step - loss: 0.4155 - accuracy: 0.8419 - val_loss: 0.4273 - val_accuracy: 0.8723\n"
     ]
    }
   ],
   "source": [
    "hist = model.fit(x, y, epochs=100, batch_size=10, validation_split=0.3)"
   ]
  },
  {
   "cell_type": "code",
   "execution_count": 44,
   "metadata": {},
   "outputs": [
    {
     "data": {
      "image/png": "[encoded data removed]",
      "text/plain": [
       "<Figure size 432x288 with 1 Axes>"
      ]
     },
     "metadata": {
      "needs_background": "light"
     },
     "output_type": "display_data"
    },
    {
     "data": {
      "image/png": "[encoded data removed]",
      "text/plain": [
       "<Figure size 432x288 with 1 Axes>"
      ]
     },
     "metadata": {
      "needs_background": "light"
     },
     "output_type": "display_data"
    }
   ],
   "source": [
    "import matplotlib.pyplot as plt\n",
    "# 손실함수 값\n",
    "plt.title('Loss')\n",
    "plt.xlabel('epochs')\n",
    "plt.ylabel('loss')\n",
    "plt.grid()\n",
    "\n",
    "plt.plot(hist.history['loss'], label='train loss')\n",
    "plt.plot(hist.history['val_loss'], label = 'validation loss')\n",
    "\n",
    "plt.legend(loc=\"best\")\n",
    "\n",
    "plt.show()\n",
    "\n",
    "# 정확도\n",
    "plt.title('Accuracy')\n",
    "plt.xlabel('epochs')\n",
    "plt.ylabel('accuracy')\n",
    "plt.grid()\n",
    "\n",
    "plt.plot(hist.history['accuracy'], label='train accuracy')\n",
    "plt.plot(hist.history['val_accuracy'], label = 'validation accuracy')\n",
    "\n",
    "plt.legend(loc=\"best\")\n",
    "\n",
    "plt.show()"
   ]
  },
  {
   "cell_type": "code",
   "execution_count": null,
   "metadata": {},
   "outputs": [],
   "source": []
  }
 ],
 "metadata": {
  "kernelspec": {
   "display_name": "Python 3",
   "language": "python",
   "name": "python3"
  },
  "language_info": {
   "codemirror_mode": {
    "name": "ipython",
    "version": 3
   },
   "file_extension": ".py",
   "mimetype": "text/x-python",
   "name": "python",
   "nbconvert_exporter": "python",
   "pygments_lexer": "ipython3",
   "version": "3.8.3"
  }
 },
 "nbformat": 4,
 "nbformat_minor": 4
}
