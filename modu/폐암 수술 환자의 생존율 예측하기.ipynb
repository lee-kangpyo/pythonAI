{
 "cells": [
  {
   "cell_type": "code",
   "execution_count": 4,
   "metadata": {},
   "outputs": [],
   "source": [
    "# 케라스 함수 호출\n",
    "from tensorflow.keras.models import Sequential\n",
    "from tensorflow.keras.layers import Dense\n",
    "# 필요한 라이브러리 불러오기\n",
    "import numpy as np\n",
    "import tensorflow as tf"
   ]
  },
  {
   "cell_type": "code",
   "execution_count": 5,
   "metadata": {},
   "outputs": [],
   "source": [
    "# 같은 결과를 출력하기 위한 설정\n",
    "np.random.seed(3)\n",
    "tf.random.set_seed(3)"
   ]
  },
  {
   "cell_type": "code",
   "execution_count": 6,
   "metadata": {},
   "outputs": [
    {
     "data": {
      "text/plain": [
       "array([[293.  ,   1.  ,   3.8 , ...,   0.  ,  62.  ,   0.  ],\n",
       "       [  1.  ,   2.  ,   2.88, ...,   0.  ,  60.  ,   0.  ],\n",
       "       [  8.  ,   2.  ,   3.19, ...,   0.  ,  66.  ,   1.  ],\n",
       "       ...,\n",
       "       [406.  ,   6.  ,   5.36, ...,   0.  ,  62.  ,   0.  ],\n",
       "       [ 25.  ,   8.  ,   4.32, ...,   0.  ,  58.  ,   1.  ],\n",
       "       [447.  ,   8.  ,   5.2 , ...,   0.  ,  49.  ,   0.  ]])"
      ]
     },
     "execution_count": 6,
     "metadata": {},
     "output_type": "execute_result"
    }
   ],
   "source": [
    "# 준비된 수술 환자 데이터를 불러오기\n",
    "data_set = np.loadtxt('./dataset/ThoraricSurgery.csv', delimiter=\",\")\n",
    "data_set"
   ]
  },
  {
   "cell_type": "code",
   "execution_count": 54,
   "metadata": {},
   "outputs": [
    {
     "data": {
      "text/plain": [
       "17"
      ]
     },
     "execution_count": 54,
     "metadata": {},
     "output_type": "execute_result"
    }
   ],
   "source": [
    "# 환자의 기록과 수술결과를 x 와 y 로 구분하여 저장\n",
    "x = data_set[:, 0:17]\n",
    "y = data_set[:, -1]\n",
    "len(x[0])"
   ]
  },
  {
   "cell_type": "code",
   "execution_count": 49,
   "metadata": {},
   "outputs": [],
   "source": [
    "# 딥러닝 구조를 결정\n",
    "model = Sequential()\n",
    "model.add(Dense(30, input_dim=17, activation = \"relu\"))\n",
    "model.add(Dense(1, activation = \"sigmoid\"))"
   ]
  },
  {
   "cell_type": "code",
   "execution_count": 50,
   "metadata": {},
   "outputs": [
    {
     "name": "stdout",
     "output_type": "stream",
     "text": [
      "Model: \"sequential_6\"\n",
      "_________________________________________________________________\n",
      "Layer (type)                 Output Shape              Param #   \n",
      "=================================================================\n",
      "dense_13 (Dense)             (None, 30)                540       \n",
      "_________________________________________________________________\n",
      "dense_14 (Dense)             (None, 1)                 31        \n",
      "=================================================================\n",
      "Total params: 571\n",
      "Trainable params: 571\n",
      "Non-trainable params: 0\n",
      "_________________________________________________________________\n"
     ]
    }
   ],
   "source": [
    "#딥러닝 실행\n",
    "model.compile(loss=\"binary_crossentropy\", optimizer=\"adam\", metrics=['accuracy'])\n",
    "model.summary()\n"
   ]
  },
  {
   "cell_type": "code",
   "execution_count": 51,
   "metadata": {},
   "outputs": [
    {
     "name": "stdout",
     "output_type": "stream",
     "text": [
      "Epoch 1/100\n",
      "33/33 [==============================] - 1s 10ms/step - loss: 13.6395 - accuracy: 0.2492 - val_loss: 9.0950 - val_accuracy: 0.2199\n",
      "Epoch 2/100\n",
      "33/33 [==============================] - 0s 4ms/step - loss: 1.3520 - accuracy: 0.7842 - val_loss: 1.4135 - val_accuracy: 0.7872\n",
      "Epoch 3/100\n",
      "33/33 [==============================] - 0s 4ms/step - loss: 1.1428 - accuracy: 0.7994 - val_loss: 2.6001 - val_accuracy: 0.4043\n",
      "Epoch 4/100\n",
      "33/33 [==============================] - 0s 3ms/step - loss: 1.0333 - accuracy: 0.7690 - val_loss: 1.8313 - val_accuracy: 0.4894\n",
      "Epoch 5/100\n",
      "33/33 [==============================] - 0s 3ms/step - loss: 0.9011 - accuracy: 0.7872 - val_loss: 1.2422 - val_accuracy: 0.6383\n",
      "Epoch 6/100\n",
      "33/33 [==============================] - 0s 3ms/step - loss: 0.8125 - accuracy: 0.7964 - val_loss: 1.6219 - val_accuracy: 0.4326\n",
      "Epoch 7/100\n",
      "33/33 [==============================] - 0s 3ms/step - loss: 0.7185 - accuracy: 0.8085 - val_loss: 1.4497 - val_accuracy: 0.4468\n",
      "Epoch 8/100\n",
      "33/33 [==============================] - 0s 3ms/step - loss: 0.6228 - accuracy: 0.8024 - val_loss: 1.1866 - val_accuracy: 0.4894\n",
      "Epoch 9/100\n",
      "33/33 [==============================] - 0s 3ms/step - loss: 0.5170 - accuracy: 0.8055 - val_loss: 0.6245 - val_accuracy: 0.7518\n",
      "Epoch 10/100\n",
      "33/33 [==============================] - 0s 3ms/step - loss: 0.4580 - accuracy: 0.8450 - val_loss: 0.5296 - val_accuracy: 0.8085\n",
      "Epoch 11/100\n",
      "33/33 [==============================] - 0s 3ms/step - loss: 0.4494 - accuracy: 0.8419 - val_loss: 0.4418 - val_accuracy: 0.8440\n",
      "Epoch 12/100\n",
      "33/33 [==============================] - 0s 3ms/step - loss: 0.4607 - accuracy: 0.8511 - val_loss: 0.5567 - val_accuracy: 0.8014\n",
      "Epoch 13/100\n",
      "33/33 [==============================] - 0s 3ms/step - loss: 0.4417 - accuracy: 0.8419 - val_loss: 0.4208 - val_accuracy: 0.8511\n",
      "Epoch 14/100\n",
      "33/33 [==============================] - 0s 3ms/step - loss: 0.4595 - accuracy: 0.8419 - val_loss: 0.5136 - val_accuracy: 0.8582\n",
      "Epoch 15/100\n",
      "33/33 [==============================] - 0s 3ms/step - loss: 0.4805 - accuracy: 0.8267 - val_loss: 0.7304 - val_accuracy: 0.6596\n",
      "Epoch 16/100\n",
      "33/33 [==============================] - 0s 4ms/step - loss: 0.4479 - accuracy: 0.8359 - val_loss: 0.4741 - val_accuracy: 0.8156\n",
      "Epoch 17/100\n",
      "33/33 [==============================] - 0s 3ms/step - loss: 0.4237 - accuracy: 0.8511 - val_loss: 0.6004 - val_accuracy: 0.7872\n",
      "Epoch 18/100\n",
      "33/33 [==============================] - 0s 4ms/step - loss: 0.4348 - accuracy: 0.8389 - val_loss: 0.5318 - val_accuracy: 0.8085\n",
      "Epoch 19/100\n",
      "33/33 [==============================] - 0s 3ms/step - loss: 0.4601 - accuracy: 0.8328 - val_loss: 0.5595 - val_accuracy: 0.7943\n",
      "Epoch 20/100\n",
      "33/33 [==============================] - 0s 4ms/step - loss: 0.4421 - accuracy: 0.8389 - val_loss: 0.4313 - val_accuracy: 0.8511\n",
      "Epoch 21/100\n",
      "33/33 [==============================] - 0s 3ms/step - loss: 0.4301 - accuracy: 0.8450 - val_loss: 0.5349 - val_accuracy: 0.8085\n",
      "Epoch 22/100\n",
      "33/33 [==============================] - 0s 3ms/step - loss: 0.4323 - accuracy: 0.8419 - val_loss: 0.4388 - val_accuracy: 0.8369\n",
      "Epoch 23/100\n",
      "33/33 [==============================] - 0s 3ms/step - loss: 0.4207 - accuracy: 0.8389 - val_loss: 0.4471 - val_accuracy: 0.8369\n",
      "Epoch 24/100\n",
      "33/33 [==============================] - 0s 3ms/step - loss: 0.4244 - accuracy: 0.8419 - val_loss: 0.4531 - val_accuracy: 0.8298\n",
      "Epoch 25/100\n",
      "33/33 [==============================] - 0s 3ms/step - loss: 0.4207 - accuracy: 0.8480 - val_loss: 0.4397 - val_accuracy: 0.8440\n",
      "Epoch 26/100\n",
      "33/33 [==============================] - 0s 3ms/step - loss: 0.4226 - accuracy: 0.8511 - val_loss: 0.4561 - val_accuracy: 0.8298\n",
      "Epoch 27/100\n",
      "33/33 [==============================] - 0s 4ms/step - loss: 0.4240 - accuracy: 0.8511 - val_loss: 0.4936 - val_accuracy: 0.8085\n",
      "Epoch 28/100\n",
      "33/33 [==============================] - 0s 3ms/step - loss: 0.4108 - accuracy: 0.8389 - val_loss: 0.4176 - val_accuracy: 0.8511\n",
      "Epoch 29/100\n",
      "33/33 [==============================] - 0s 3ms/step - loss: 0.4571 - accuracy: 0.8511 - val_loss: 0.4214 - val_accuracy: 0.8582\n",
      "Epoch 30/100\n",
      "33/33 [==============================] - 0s 3ms/step - loss: 0.4310 - accuracy: 0.8298 - val_loss: 0.5245 - val_accuracy: 0.8227\n",
      "Epoch 31/100\n",
      "33/33 [==============================] - 0s 3ms/step - loss: 0.4353 - accuracy: 0.8389 - val_loss: 0.5489 - val_accuracy: 0.7943\n",
      "Epoch 32/100\n",
      "33/33 [==============================] - 0s 3ms/step - loss: 0.4230 - accuracy: 0.8511 - val_loss: 0.4552 - val_accuracy: 0.8298\n",
      "Epoch 33/100\n",
      "33/33 [==============================] - 0s 3ms/step - loss: 0.4147 - accuracy: 0.8511 - val_loss: 0.4314 - val_accuracy: 0.8582\n",
      "Epoch 34/100\n",
      "33/33 [==============================] - 0s 3ms/step - loss: 0.4223 - accuracy: 0.8511 - val_loss: 0.4615 - val_accuracy: 0.8582\n",
      "Epoch 35/100\n",
      "33/33 [==============================] - 0s 4ms/step - loss: 0.4433 - accuracy: 0.8389 - val_loss: 0.4206 - val_accuracy: 0.8440\n",
      "Epoch 36/100\n",
      "33/33 [==============================] - 0s 4ms/step - loss: 0.4222 - accuracy: 0.8328 - val_loss: 0.4518 - val_accuracy: 0.8369\n",
      "Epoch 37/100\n",
      "33/33 [==============================] - 0s 3ms/step - loss: 0.4178 - accuracy: 0.8389 - val_loss: 0.4119 - val_accuracy: 0.8511\n",
      "Epoch 38/100\n",
      "33/33 [==============================] - 0s 3ms/step - loss: 0.4155 - accuracy: 0.8419 - val_loss: 0.4312 - val_accuracy: 0.8440\n",
      "Epoch 39/100\n",
      "33/33 [==============================] - 0s 3ms/step - loss: 0.4408 - accuracy: 0.8389 - val_loss: 0.4093 - val_accuracy: 0.8582\n",
      "Epoch 40/100\n",
      "33/33 [==============================] - 0s 4ms/step - loss: 0.4322 - accuracy: 0.8541 - val_loss: 0.4159 - val_accuracy: 0.8511\n",
      "Epoch 41/100\n",
      "33/33 [==============================] - 0s 3ms/step - loss: 0.4093 - accuracy: 0.8450 - val_loss: 0.4138 - val_accuracy: 0.8511\n",
      "Epoch 42/100\n",
      "33/33 [==============================] - 0s 4ms/step - loss: 0.4088 - accuracy: 0.8511 - val_loss: 0.6008 - val_accuracy: 0.7660\n",
      "Epoch 43/100\n",
      "33/33 [==============================] - 0s 3ms/step - loss: 0.4069 - accuracy: 0.8419 - val_loss: 0.5429 - val_accuracy: 0.8014\n",
      "Epoch 44/100\n",
      "33/33 [==============================] - 0s 4ms/step - loss: 0.4143 - accuracy: 0.8450 - val_loss: 0.5028 - val_accuracy: 0.8227\n",
      "Epoch 45/100\n",
      "33/33 [==============================] - 0s 4ms/step - loss: 0.4177 - accuracy: 0.8480 - val_loss: 0.9226 - val_accuracy: 0.4326\n",
      "Epoch 46/100\n",
      "33/33 [==============================] - 0s 3ms/step - loss: 0.4476 - accuracy: 0.8237 - val_loss: 0.4880 - val_accuracy: 0.8652\n",
      "Epoch 47/100\n",
      "33/33 [==============================] - 0s 3ms/step - loss: 0.4219 - accuracy: 0.8511 - val_loss: 0.4854 - val_accuracy: 0.8227\n",
      "Epoch 48/100\n",
      "33/33 [==============================] - 0s 3ms/step - loss: 0.4027 - accuracy: 0.8450 - val_loss: 0.4436 - val_accuracy: 0.8440\n",
      "Epoch 49/100\n",
      "33/33 [==============================] - 0s 3ms/step - loss: 0.4007 - accuracy: 0.8480 - val_loss: 0.4379 - val_accuracy: 0.8440\n",
      "Epoch 50/100\n",
      "33/33 [==============================] - 0s 3ms/step - loss: 0.4403 - accuracy: 0.8419 - val_loss: 0.4461 - val_accuracy: 0.8582\n",
      "Epoch 51/100\n",
      "33/33 [==============================] - 0s 3ms/step - loss: 0.4083 - accuracy: 0.8389 - val_loss: 0.4712 - val_accuracy: 0.8298\n",
      "Epoch 52/100\n",
      "33/33 [==============================] - 0s 3ms/step - loss: 0.4035 - accuracy: 0.8541 - val_loss: 0.4365 - val_accuracy: 0.8582\n",
      "Epoch 53/100\n",
      "33/33 [==============================] - 0s 3ms/step - loss: 0.4229 - accuracy: 0.8419 - val_loss: 0.4468 - val_accuracy: 0.8440\n",
      "Epoch 54/100\n",
      "33/33 [==============================] - 0s 4ms/step - loss: 0.4162 - accuracy: 0.8511 - val_loss: 0.6047 - val_accuracy: 0.7660\n",
      "Epoch 55/100\n",
      "33/33 [==============================] - 0s 3ms/step - loss: 0.4014 - accuracy: 0.8450 - val_loss: 0.5135 - val_accuracy: 0.8227\n",
      "Epoch 56/100\n",
      "33/33 [==============================] - 0s 3ms/step - loss: 0.3986 - accuracy: 0.8541 - val_loss: 0.4382 - val_accuracy: 0.8582\n",
      "Epoch 57/100\n",
      "33/33 [==============================] - 0s 3ms/step - loss: 0.4046 - accuracy: 0.8450 - val_loss: 0.4662 - val_accuracy: 0.8298\n",
      "Epoch 58/100\n",
      "33/33 [==============================] - 0s 3ms/step - loss: 0.4124 - accuracy: 0.8571 - val_loss: 0.4327 - val_accuracy: 0.8511\n"
     ]
    },
    {
     "name": "stdout",
     "output_type": "stream",
     "text": [
      "Epoch 59/100\n",
      "33/33 [==============================] - 0s 3ms/step - loss: 0.3883 - accuracy: 0.8511 - val_loss: 0.5581 - val_accuracy: 0.8085\n",
      "Epoch 60/100\n",
      "33/33 [==============================] - 0s 3ms/step - loss: 0.3985 - accuracy: 0.8480 - val_loss: 0.6321 - val_accuracy: 0.7163\n",
      "Epoch 61/100\n",
      "33/33 [==============================] - 0s 3ms/step - loss: 0.4251 - accuracy: 0.8450 - val_loss: 0.4327 - val_accuracy: 0.8652\n",
      "Epoch 62/100\n",
      "33/33 [==============================] - 0s 3ms/step - loss: 0.4267 - accuracy: 0.8571 - val_loss: 0.4663 - val_accuracy: 0.8227\n",
      "Epoch 63/100\n",
      "33/33 [==============================] - 0s 3ms/step - loss: 0.4215 - accuracy: 0.8298 - val_loss: 0.5656 - val_accuracy: 0.8652\n",
      "Epoch 64/100\n",
      "33/33 [==============================] - 0s 3ms/step - loss: 0.4321 - accuracy: 0.8511 - val_loss: 0.4545 - val_accuracy: 0.8369\n",
      "Epoch 65/100\n",
      "33/33 [==============================] - 0s 3ms/step - loss: 0.4087 - accuracy: 0.8480 - val_loss: 1.1474 - val_accuracy: 0.3121\n",
      "Epoch 66/100\n",
      "33/33 [==============================] - 0s 3ms/step - loss: 0.4437 - accuracy: 0.8359 - val_loss: 0.4606 - val_accuracy: 0.8582\n",
      "Epoch 67/100\n",
      "33/33 [==============================] - 0s 3ms/step - loss: 0.4266 - accuracy: 0.8207 - val_loss: 0.4464 - val_accuracy: 0.8369\n",
      "Epoch 68/100\n",
      "33/33 [==============================] - 0s 3ms/step - loss: 0.4139 - accuracy: 0.8511 - val_loss: 0.6032 - val_accuracy: 0.7589\n",
      "Epoch 69/100\n",
      "33/33 [==============================] - 0s 3ms/step - loss: 0.4054 - accuracy: 0.8632 - val_loss: 0.4692 - val_accuracy: 0.8369\n",
      "Epoch 70/100\n",
      "33/33 [==============================] - 0s 3ms/step - loss: 0.4180 - accuracy: 0.8359 - val_loss: 0.5182 - val_accuracy: 0.8227\n",
      "Epoch 71/100\n",
      "33/33 [==============================] - 0s 3ms/step - loss: 0.4153 - accuracy: 0.8480 - val_loss: 0.4710 - val_accuracy: 0.8440\n",
      "Epoch 72/100\n",
      "33/33 [==============================] - 0s 3ms/step - loss: 0.4242 - accuracy: 0.8511 - val_loss: 0.6864 - val_accuracy: 0.6454\n",
      "Epoch 73/100\n",
      "33/33 [==============================] - 0s 3ms/step - loss: 0.4075 - accuracy: 0.8480 - val_loss: 0.4540 - val_accuracy: 0.8511\n",
      "Epoch 74/100\n",
      "33/33 [==============================] - 0s 3ms/step - loss: 0.3881 - accuracy: 0.8541 - val_loss: 0.4509 - val_accuracy: 0.8582\n",
      "Epoch 75/100\n",
      "33/33 [==============================] - 0s 5ms/step - loss: 0.3835 - accuracy: 0.8511 - val_loss: 0.5301 - val_accuracy: 0.8156\n",
      "Epoch 76/100\n",
      "33/33 [==============================] - 0s 4ms/step - loss: 0.3915 - accuracy: 0.8450 - val_loss: 0.4436 - val_accuracy: 0.8582\n",
      "Epoch 77/100\n",
      "33/33 [==============================] - 0s 4ms/step - loss: 0.3973 - accuracy: 0.8328 - val_loss: 0.4328 - val_accuracy: 0.8582\n",
      "Epoch 78/100\n",
      "33/33 [==============================] - 0s 4ms/step - loss: 0.3811 - accuracy: 0.8541 - val_loss: 0.4462 - val_accuracy: 0.8511\n",
      "Epoch 79/100\n",
      "33/33 [==============================] - 0s 5ms/step - loss: 0.4105 - accuracy: 0.8541 - val_loss: 0.4336 - val_accuracy: 0.8652\n",
      "Epoch 80/100\n",
      "33/33 [==============================] - 0s 5ms/step - loss: 0.4251 - accuracy: 0.8389 - val_loss: 0.8609 - val_accuracy: 0.5106\n",
      "Epoch 81/100\n",
      "33/33 [==============================] - 0s 5ms/step - loss: 0.4007 - accuracy: 0.8450 - val_loss: 0.7186 - val_accuracy: 0.6099\n",
      "Epoch 82/100\n",
      "33/33 [==============================] - 0s 5ms/step - loss: 0.4280 - accuracy: 0.8298 - val_loss: 0.4876 - val_accuracy: 0.8652\n",
      "Epoch 83/100\n",
      "33/33 [==============================] - 0s 5ms/step - loss: 0.4613 - accuracy: 0.8328 - val_loss: 0.6067 - val_accuracy: 0.7589\n",
      "Epoch 84/100\n",
      "33/33 [==============================] - 0s 5ms/step - loss: 0.4064 - accuracy: 0.8419 - val_loss: 0.4729 - val_accuracy: 0.8298\n",
      "Epoch 85/100\n",
      "33/33 [==============================] - 0s 5ms/step - loss: 0.3832 - accuracy: 0.8511 - val_loss: 0.4524 - val_accuracy: 0.8652\n",
      "Epoch 86/100\n",
      "33/33 [==============================] - 0s 5ms/step - loss: 0.4351 - accuracy: 0.8450 - val_loss: 0.4291 - val_accuracy: 0.8440\n",
      "Epoch 87/100\n",
      "33/33 [==============================] - 0s 5ms/step - loss: 0.4178 - accuracy: 0.8389 - val_loss: 0.5278 - val_accuracy: 0.8156\n",
      "Epoch 88/100\n",
      "33/33 [==============================] - 0s 5ms/step - loss: 0.4506 - accuracy: 0.8480 - val_loss: 0.4951 - val_accuracy: 0.8652\n",
      "Epoch 89/100\n",
      "33/33 [==============================] - 0s 6ms/step - loss: 0.3932 - accuracy: 0.8419 - val_loss: 0.4547 - val_accuracy: 0.8440\n",
      "Epoch 90/100\n",
      "33/33 [==============================] - 0s 6ms/step - loss: 0.3920 - accuracy: 0.8480 - val_loss: 0.5729 - val_accuracy: 0.8156\n",
      "Epoch 91/100\n",
      "33/33 [==============================] - 0s 6ms/step - loss: 0.3891 - accuracy: 0.8511 - val_loss: 0.5210 - val_accuracy: 0.8227\n",
      "Epoch 92/100\n",
      "33/33 [==============================] - 0s 5ms/step - loss: 0.4010 - accuracy: 0.8571 - val_loss: 0.5701 - val_accuracy: 0.7801\n",
      "Epoch 93/100\n",
      "33/33 [==============================] - 0s 5ms/step - loss: 0.3828 - accuracy: 0.8480 - val_loss: 0.4308 - val_accuracy: 0.8652\n",
      "Epoch 94/100\n",
      "33/33 [==============================] - 0s 5ms/step - loss: 0.4074 - accuracy: 0.8450 - val_loss: 0.4771 - val_accuracy: 0.8227\n",
      "Epoch 95/100\n",
      "33/33 [==============================] - 0s 6ms/step - loss: 0.3854 - accuracy: 0.8450 - val_loss: 0.5482 - val_accuracy: 0.8156\n",
      "Epoch 96/100\n",
      "33/33 [==============================] - 0s 5ms/step - loss: 0.3811 - accuracy: 0.8541 - val_loss: 0.4492 - val_accuracy: 0.8440\n",
      "Epoch 97/100\n",
      "33/33 [==============================] - 0s 5ms/step - loss: 0.3953 - accuracy: 0.8450 - val_loss: 0.4502 - val_accuracy: 0.8652\n",
      "Epoch 98/100\n",
      "33/33 [==============================] - 0s 7ms/step - loss: 0.3972 - accuracy: 0.8602 - val_loss: 0.8398 - val_accuracy: 0.5248\n",
      "Epoch 99/100\n",
      "33/33 [==============================] - 0s 5ms/step - loss: 0.4044 - accuracy: 0.8359 - val_loss: 0.4808 - val_accuracy: 0.8652\n",
      "Epoch 100/100\n",
      "33/33 [==============================] - 0s 5ms/step - loss: 0.4045 - accuracy: 0.8359 - val_loss: 0.5154 - val_accuracy: 0.8227\n"
     ]
    }
   ],
   "source": [
    "hist = model.fit(x, y, epochs=100, batch_size=10, validation_split=0.3)"
   ]
  },
  {
   "cell_type": "code",
   "execution_count": 52,
   "metadata": {},
   "outputs": [
    {
     "data": {
      "image/png": "[encoded data removed]",
      "text/plain": [
       "<Figure size 432x288 with 1 Axes>"
      ]
     },
     "metadata": {
      "needs_background": "light"
     },
     "output_type": "display_data"
    },
    {
     "data": {
      "image/png": "[encoded data removed]",
      "text/plain": [
       "<Figure size 432x288 with 1 Axes>"
      ]
     },
     "metadata": {
      "needs_background": "light"
     },
     "output_type": "display_data"
    }
   ],
   "source": [
    "import matplotlib.pyplot as plt\n",
    "# 손실함수 값\n",
    "plt.title('Loss')\n",
    "plt.xlabel('epochs')\n",
    "plt.ylabel('loss')\n",
    "plt.grid()\n",
    "\n",
    "plt.plot(hist.history['loss'], label='train loss')\n",
    "plt.plot(hist.history['val_loss'], label = 'validation loss')\n",
    "\n",
    "plt.legend(loc=\"best\")\n",
    "\n",
    "plt.show()\n",
    "\n",
    "# 정확도\n",
    "plt.title('Accuracy')\n",
    "plt.xlabel('epochs')\n",
    "plt.ylabel('accuracy')\n",
    "plt.grid()\n",
    "\n",
    "plt.plot(hist.history['accuracy'], label='train accuracy')\n",
    "plt.plot(hist.history['val_accuracy'], label = 'validation accuracy')\n",
    "\n",
    "plt.legend(loc=\"best\")\n",
    "\n",
    "plt.show()"
   ]
  },
  {
   "cell_type": "code",
   "execution_count": null,
   "metadata": {},
   "outputs": [],
   "source": []
  }
 ],
 "metadata": {
  "kernelspec": {
   "display_name": "Python 3",
   "language": "python",
   "name": "python3"
  },
  "language_info": {
   "codemirror_mode": {
    "name": "ipython",
    "version": 3
   },
   "file_extension": ".py",
   "mimetype": "text/x-python",
   "name": "python",
   "nbconvert_exporter": "python",
   "pygments_lexer": "ipython3",
   "version": "3.8.3"
  }
 },
 "nbformat": 4,
 "nbformat_minor": 4
}
