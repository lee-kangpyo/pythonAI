{
 "cells": [
  {
   "cell_type": "code",
   "execution_count": 4,
   "metadata": {},
   "outputs": [],
   "source": [
    "import numpy as np\n",
    "import tensorflow as tf\n",
    "from tensorflow.keras.datasets import cifar10\n",
    "from tensorflow.keras.models import Sequential\n",
    "from tensorflow.keras.layers import Conv2D, MaxPool2D\n",
    "from tensorflow.keras.layers import Flatten, Dense, Dropout"
   ]
  },
  {
   "cell_type": "code",
   "execution_count": 13,
   "metadata": {},
   "outputs": [],
   "source": [
    "(x_train, y_train), (x_test, y_test) = cifar10.load_data()"
   ]
  },
  {
   "cell_type": "code",
   "execution_count": 17,
   "metadata": {},
   "outputs": [
    {
     "name": "stdout",
     "output_type": "stream",
     "text": [
      "(50000, 32, 32, 3) (10000, 32, 32, 3)\n",
      "(50000, 1) (10000, 1)\n"
     ]
    }
   ],
   "source": [
    "(x_train, y_train), (x_test, y_test) = cifar10.load_data()\n",
    "\n",
    "#x_train = x_train.reshape(-1, 32, 32, 3)\n",
    "#x_test = x_test.reshape(-1, 32, 32, 3)\n",
    "\n",
    "print(x_train.shape, x_test.shape)\n",
    "print(y_train.shape, y_test.shape)\n",
    "\n",
    "x_train = x_train.astype(np.float32) / 255.0\n",
    "x_test = x_test.astype(np.float32) / 255.0"
   ]
  },
  {
   "cell_type": "code",
   "execution_count": null,
   "metadata": {},
   "outputs": [],
   "source": [
    "# cnn 모델 구축\n",
    "\n",
    "cnn = Sequential()\n",
    "# 3 * 3 크기의 필터 32개로 구성된다.\n",
    "cnn.add(Conv2D(input_shape=(28, 28, 1), kernel_size=(3,3), filters = 32, activation = 'relu'))\n",
    "# 3 * 3 크기의 필터 64개로 구성된다.\n",
    "cnn.add(Conv2D(kernel_size=(3,3), filters = 64, activation = 'relu'))\n",
    "# 맥스 풀링 수행\n",
    "cnn.add(MaxPool2D(pool_size=(2,2)))\n",
    "# 25% 비율로 랜덤하게 연결을 끊어 오버피팅 방지\n",
    "cnn.add(Dropout(0.25))\n",
    "# 여기까지가 특징 추출기\n",
    "\n",
    "# 3차원 텐서를 1차원 벡터로 변환\n",
    "cnn.add(Flatten())\n",
    "\n",
    "cnn.add(Dense(128, activation='relu'))\n",
    "cnn.add(Dropout(0.5))\n",
    "cnn.add(Dense(10, activation='softmax'))\n",
    "\n",
    "cnn.summary()"
   ]
  }
 ],
 "metadata": {
  "kernelspec": {
   "display_name": "Python 3",
   "language": "python",
   "name": "python3"
  },
  "language_info": {
   "codemirror_mode": {
    "name": "ipython",
    "version": 3
   },
   "file_extension": ".py",
   "mimetype": "text/x-python",
   "name": "python",
   "nbconvert_exporter": "python",
   "pygments_lexer": "ipython3",
   "version": "3.7.4"
  }
 },
 "nbformat": 4,
 "nbformat_minor": 2
}
