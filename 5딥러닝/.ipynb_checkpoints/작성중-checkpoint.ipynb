{
 "cells": [
  {
   "cell_type": "code",
   "execution_count": null,
   "metadata": {},
   "outputs": [],
   "source": [
    "tf.__version__"
   ]
  },
  {
   "cell_type": "code",
   "execution_count": null,
   "metadata": {},
   "outputs": [],
   "source": [
    "# 버전 1 텐서플로우\n",
    "import tensorflow as tf\n",
    "sess = tf.Session()\n",
    "hello = tf.constant('hello')\n",
    "print(sess.run(hello))"
   ]
  },
  {
   "cell_type": "code",
   "execution_count": null,
   "metadata": {},
   "outputs": [],
   "source": [
    "# 텐서 플로우 2.0 부터는 Session과 run이 생략된다.\n",
    "import tensorflow as tf\n",
    "node1 = tf.constant(3.0, dtype=tf.float32)\n",
    "node2 = tf.constant('hello')\n",
    "tf.print(node1,node2)"
   ]
  },
  {
   "cell_type": "markdown",
   "metadata": {},
   "source": [
    "# 덧셈하는 데이터 플로 그래프"
   ]
  },
  {
   "cell_type": "code",
   "execution_count": null,
   "metadata": {},
   "outputs": [],
   "source": [
    "# 텐서 플로우 읽기\n",
    "import tensorflow as tf\n",
    "\n",
    "# 상수 정의 하기\n",
    "a = tf.constant(100)\n",
    "b = tf.constant(30)\n",
    "\n",
    "add_op = a + b\n",
    "print(add_op)"
   ]
  },
  {
   "cell_type": "markdown",
   "metadata": {},
   "source": [
    "# 곱셈하는 데이터 플로 그래프"
   ]
  },
  {
   "cell_type": "code",
   "execution_count": null,
   "metadata": {},
   "outputs": [],
   "source": [
    "import tensorflow as tf\n",
    "\n",
    "# 상수 정의 하기\n",
    "a = tf.constant(10)\n",
    "b = tf.constant(20)\n",
    "c = tf.constant(30)\n",
    "\n",
    "add_op = (a + b) * c\n",
    "print(add_op)"
   ]
  },
  {
   "cell_type": "markdown",
   "metadata": {},
   "source": [
    "# 데이터 플로 그래프를 그림으로 확인하기"
   ]
  },
  {
   "cell_type": "code",
   "execution_count": 13,
   "metadata": {},
   "outputs": [
    {
     "name": "stdout",
     "output_type": "stream",
     "text": [
      "tf.Tensor(900, shape=(), dtype=int32)\n"
     ]
    }
   ],
   "source": [
    "import tensorflow as tf\n",
    "'''\n",
    "# 상수 정의 하기\n",
    "a = tf.constant(10, name='10')\n",
    "b = tf.constant(20, name='20')\n",
    "c = tf.constant(30, name='30')\n",
    "\n",
    "# 연산 정의하기\n",
    "add_op = tf.add(a, b, name='add')\n",
    "mul_op = tf.multiply(add_op, c, name='mul')\n",
    "\n",
    "print(mul_op)\n",
    "\n",
    "# 텐서 보드 그래프 출력하기\n",
    "tf.summary.FileWriter('./logs', sess.graph)\n",
    "'''\n",
    "writer = tf.summary.create_file_writer(\"./logs\")\n",
    "\n",
    "with writer.as_default():\n",
    "    \n",
    "    \n",
    "    # 상수 정의 하기\n",
    "    a = tf.constant(10, name='10')\n",
    "    b = tf.constant(20, name='20')\n",
    "    c = tf.constant(30, name='30')\n",
    "\n",
    "    tf.summary.trace_on(graph=True, profiler=False)\n",
    "    # 연산 정의하기\n",
    "    add_op = tf.add(a, b, name='add')\n",
    "    mul_op = tf.multiply(add_op, c, name='mul')\n",
    "    with writer.as_default():\n",
    "      tf.summary.trace_export(\n",
    "          name=\"test\",\n",
    "          step=0,\n",
    "          profiler_outdir=\"./logs\"\n",
    "      )\n",
    "\n",
    "    print(mul_op)\n",
    "    \n",
    "    #tf.summary.scalar(\"my_metric\", 0.5, step=0)\n",
    "    \n",
    "    #writer.flush()\n"
   ]
  },
  {
   "cell_type": "code",
   "execution_count": null,
   "metadata": {},
   "outputs": [],
   "source": [
    "%load_ext tensorboard\n",
    "%tensorboard --logdir ./logs"
   ]
  },
  {
   "cell_type": "code",
   "execution_count": null,
   "metadata": {},
   "outputs": [],
   "source": [
    "@tf.function\n",
    "def my_func(x, y):\n",
    "  # A simple hand-rolled layer.\n",
    "  return tf.nn.relu(tf.matmul(x, y))\n",
    "\n",
    "# Set up logging.\n",
    "logdir = './logs/func'\n",
    "writer = tf.summary.create_file_writer(logdir)\n",
    "\n",
    "# Sample data for your function.\n",
    "x = tf.random.uniform((3, 3))\n",
    "y = tf.random.uniform((3, 3))\n",
    "\n",
    "# Bracket the function call with\n",
    "# tf.summary.trace_on() and tf.summary.trace_export().\n",
    "tf.summary.trace_on(graph=True, profiler=True)\n",
    "# Call only one tf.function when tracing.\n",
    "z = my_func(x, y)\n",
    "with writer.as_default():\n",
    "  tf.summary.trace_export(\n",
    "      name=\"my_func_trace\",\n",
    "      step=0,\n",
    "      profiler_outdir=logdir)"
   ]
  }
 ],
 "metadata": {
  "kernelspec": {
   "display_name": "Python 3",
   "language": "python",
   "name": "python3"
  },
  "language_info": {
   "codemirror_mode": {
    "name": "ipython",
    "version": 3
   },
   "file_extension": ".py",
   "mimetype": "text/x-python",
   "name": "python",
   "nbconvert_exporter": "python",
   "pygments_lexer": "ipython3",
   "version": "3.7.4"
  }
 },
 "nbformat": 4,
 "nbformat_minor": 2
}
