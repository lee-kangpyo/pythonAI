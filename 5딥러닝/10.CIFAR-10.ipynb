{
 "cells": [
  {
   "cell_type": "code",
   "execution_count": 4,
   "metadata": {},
   "outputs": [],
   "source": [
    "import numpy as np\n",
    "import tensorflow as tf\n",
    "from tensorflow.keras.datasets import cifar10\n",
    "from tensorflow.keras.models import Sequential\n",
    "from tensorflow.keras.layers import Conv2D, MaxPool2D\n",
    "from tensorflow.keras.layers import Flatten, Dense, Dropout"
   ]
  },
  {
   "cell_type": "code",
   "execution_count": 13,
   "metadata": {},
   "outputs": [],
   "source": [
    "(x_train, y_train), (x_test, y_test) = cifar10.load_data()"
   ]
  },
  {
   "cell_type": "code",
   "execution_count": 27,
   "metadata": {},
   "outputs": [
    {
     "name": "stdout",
     "output_type": "stream",
     "text": [
      "(50000, 32, 32, 3) (10000, 32, 32, 3)\n",
      "(50000, 1) (10000, 1)\n"
     ]
    }
   ],
   "source": [
    "(x_train, y_train), (x_test, y_test) = cifar10.load_data()\n",
    "\n",
    "#x_train = x_train.reshape(-1, 32, 32, 3)\n",
    "#x_test = x_test.reshape(-1, 32, 32, 3)\n",
    "\n",
    "print(x_train.shape, x_test.shape)\n",
    "print(y_train.shape, y_test.shape)\n",
    "\n",
    "x_train = x_train.astype(np.float32) / 255.0\n",
    "x_test = x_test.astype(np.float32) / 255.0"
   ]
  },
  {
   "cell_type": "code",
   "execution_count": 28,
   "metadata": {},
   "outputs": [
    {
     "name": "stdout",
     "output_type": "stream",
     "text": [
      "Model: \"sequential_2\"\n",
      "_________________________________________________________________\n",
      "Layer (type)                 Output Shape              Param #   \n",
      "=================================================================\n",
      "conv2d_4 (Conv2D)            (None, 30, 30, 32)        896       \n",
      "_________________________________________________________________\n",
      "conv2d_5 (Conv2D)            (None, 28, 28, 64)        18496     \n",
      "_________________________________________________________________\n",
      "max_pooling2d_2 (MaxPooling2 (None, 14, 14, 64)        0         \n",
      "_________________________________________________________________\n",
      "dropout_4 (Dropout)          (None, 14, 14, 64)        0         \n",
      "_________________________________________________________________\n",
      "flatten_2 (Flatten)          (None, 12544)             0         \n",
      "_________________________________________________________________\n",
      "dense_4 (Dense)              (None, 128)               1605760   \n",
      "_________________________________________________________________\n",
      "dropout_5 (Dropout)          (None, 128)               0         \n",
      "_________________________________________________________________\n",
      "dense_5 (Dense)              (None, 10)                1290      \n",
      "=================================================================\n",
      "Total params: 1,626,442\n",
      "Trainable params: 1,626,442\n",
      "Non-trainable params: 0\n",
      "_________________________________________________________________\n"
     ]
    }
   ],
   "source": [
    "# cnn 모델 구축\n",
    "\n",
    "cnn = Sequential()\n",
    "# 3 * 3 크기의 필터 32개로 구성된다.\n",
    "cnn.add(Conv2D(input_shape=(32, 32, 3), kernel_size=(3,3), filters = 32, activation = 'relu'))\n",
    "# 3 * 3 크기의 필터 64개로 구성된다.\n",
    "cnn.add(Conv2D(kernel_size=(3,3), filters = 64, activation = 'relu'))\n",
    "# 맥스 풀링 수행\n",
    "cnn.add(MaxPool2D(pool_size=(2,2)))\n",
    "# 25% 비율로 랜덤하게 연결을 끊어 오버피팅 방지\n",
    "cnn.add(Dropout(0.25))\n",
    "# 여기까지가 특징 추출기\n",
    "\n",
    "# 3차원 텐서를 1차원 벡터로 변환\n",
    "cnn.add(Flatten())\n",
    "# 128개의 노드를 가지는 덴스층과\n",
    "cnn.add(Dense(128, activation='relu'))\n",
    "cnn.add(Dropout(0.5))\n",
    "# 10개의 노드를 가지는 출력층으로 모델 구축\n",
    "cnn.add(Dense(10, activation='softmax'))\n",
    "\n",
    "cnn.summary()"
   ]
  },
  {
   "cell_type": "code",
   "execution_count": 29,
   "metadata": {},
   "outputs": [
    {
     "name": "stdout",
     "output_type": "stream",
     "text": [
      "Epoch 1/30\n",
      "391/391 [==============================] - 101s 255ms/step - loss: 1.6938 - accuracy: 0.3843 - val_loss: 1.3240 - val_accuracy: 0.5273\n",
      "Epoch 2/30\n",
      "391/391 [==============================] - 89s 228ms/step - loss: 1.3692 - accuracy: 0.5097 - val_loss: 1.1430 - val_accuracy: 0.6033\n",
      "Epoch 3/30\n",
      "391/391 [==============================] - 98s 252ms/step - loss: 1.2262 - accuracy: 0.5639 - val_loss: 1.0952 - val_accuracy: 0.6203\n",
      "Epoch 4/30\n",
      "391/391 [==============================] - 91s 234ms/step - loss: 1.1379 - accuracy: 0.5948 - val_loss: 1.0271 - val_accuracy: 0.6500\n",
      "Epoch 5/30\n",
      "391/391 [==============================] - 98s 250ms/step - loss: 1.0699 - accuracy: 0.6203 - val_loss: 0.9728 - val_accuracy: 0.6638\n",
      "Epoch 6/30\n",
      "391/391 [==============================] - 93s 237ms/step - loss: 1.0214 - accuracy: 0.6372 - val_loss: 0.9488 - val_accuracy: 0.6702\n",
      "Epoch 7/30\n",
      "391/391 [==============================] - 94s 240ms/step - loss: 0.9770 - accuracy: 0.6503 - val_loss: 0.9256 - val_accuracy: 0.6759\n",
      "Epoch 8/30\n",
      "391/391 [==============================] - 100s 256ms/step - loss: 0.9404 - accuracy: 0.6636 - val_loss: 0.8979 - val_accuracy: 0.6852\n",
      "Epoch 9/30\n",
      "391/391 [==============================] - 93s 237ms/step - loss: 0.9117 - accuracy: 0.6731 - val_loss: 0.8882 - val_accuracy: 0.6897\n",
      "Epoch 10/30\n",
      "391/391 [==============================] - 98s 251ms/step - loss: 0.8757 - accuracy: 0.6867 - val_loss: 0.8816 - val_accuracy: 0.6941\n",
      "Epoch 11/30\n",
      "391/391 [==============================] - 92s 236ms/step - loss: 0.8438 - accuracy: 0.6970 - val_loss: 0.8753 - val_accuracy: 0.7010\n",
      "Epoch 12/30\n",
      "391/391 [==============================] - 90s 229ms/step - loss: 0.8169 - accuracy: 0.7050 - val_loss: 0.8775 - val_accuracy: 0.6976\n",
      "Epoch 13/30\n",
      "391/391 [==============================] - 89s 227ms/step - loss: 0.7959 - accuracy: 0.7129 - val_loss: 0.8644 - val_accuracy: 0.7000\n",
      "Epoch 14/30\n",
      "391/391 [==============================] - 88s 225ms/step - loss: 0.7646 - accuracy: 0.7214 - val_loss: 0.8720 - val_accuracy: 0.7040\n",
      "Epoch 15/30\n",
      "391/391 [==============================] - 88s 225ms/step - loss: 0.7385 - accuracy: 0.7326 - val_loss: 0.8699 - val_accuracy: 0.7076\n",
      "Epoch 16/30\n",
      "391/391 [==============================] - 87s 223ms/step - loss: 0.7165 - accuracy: 0.7395 - val_loss: 0.8631 - val_accuracy: 0.7054\n",
      "Epoch 17/30\n",
      "391/391 [==============================] - 87s 223ms/step - loss: 0.6935 - accuracy: 0.7454 - val_loss: 0.8693 - val_accuracy: 0.7097\n",
      "Epoch 18/30\n",
      "391/391 [==============================] - 88s 225ms/step - loss: 0.6813 - accuracy: 0.7504 - val_loss: 0.8740 - val_accuracy: 0.7083\n",
      "Epoch 19/30\n",
      "391/391 [==============================] - 86s 221ms/step - loss: 0.6558 - accuracy: 0.7596 - val_loss: 0.8718 - val_accuracy: 0.7091\n",
      "Epoch 20/30\n",
      "391/391 [==============================] - 83s 212ms/step - loss: 0.6382 - accuracy: 0.7679 - val_loss: 0.8653 - val_accuracy: 0.7119\n",
      "Epoch 21/30\n",
      "391/391 [==============================] - 82s 211ms/step - loss: 0.6195 - accuracy: 0.7721 - val_loss: 0.8754 - val_accuracy: 0.7090\n",
      "Epoch 22/30\n",
      "391/391 [==============================] - 82s 209ms/step - loss: 0.6026 - accuracy: 0.7775 - val_loss: 0.8907 - val_accuracy: 0.7083\n",
      "Epoch 23/30\n",
      "391/391 [==============================] - 80s 205ms/step - loss: 0.5903 - accuracy: 0.7815 - val_loss: 0.8928 - val_accuracy: 0.7103\n",
      "Epoch 24/30\n",
      "391/391 [==============================] - 78s 200ms/step - loss: 0.5784 - accuracy: 0.7858 - val_loss: 0.8943 - val_accuracy: 0.7185\n",
      "Epoch 25/30\n",
      "391/391 [==============================] - 50s 128ms/step - loss: 0.5636 - accuracy: 0.7919 - val_loss: 0.9039 - val_accuracy: 0.7118\n",
      "Epoch 26/30\n",
      "391/391 [==============================] - 48s 124ms/step - loss: 0.5514 - accuracy: 0.7959 - val_loss: 0.9209 - val_accuracy: 0.7118\n",
      "Epoch 27/30\n",
      "391/391 [==============================] - 46s 119ms/step - loss: 0.5437 - accuracy: 0.7983 - val_loss: 0.9200 - val_accuracy: 0.7109\n",
      "Epoch 28/30\n",
      "391/391 [==============================] - 47s 121ms/step - loss: 0.5268 - accuracy: 0.8032 - val_loss: 0.9232 - val_accuracy: 0.7076\n",
      "Epoch 29/30\n",
      "391/391 [==============================] - 47s 119ms/step - loss: 0.5296 - accuracy: 0.8026 - val_loss: 0.9374 - val_accuracy: 0.7111\n",
      "Epoch 30/30\n",
      "391/391 [==============================] - 46s 119ms/step - loss: 0.5072 - accuracy: 0.8097 - val_loss: 0.9423 - val_accuracy: 0.7087\n"
     ]
    }
   ],
   "source": [
    "#CNN 모델 컴파일 및 학습\n",
    "cnn.compile(loss='sparse_categorical_crossentropy', optimizer=tf.keras.optimizers.Adam(), metrics=['accuracy'])\n",
    "\n",
    "hist = cnn.fit(x_train, y_train, batch_size=128, epochs=30, validation_data=(x_test, y_test))"
   ]
  },
  {
   "cell_type": "code",
   "execution_count": 30,
   "metadata": {},
   "outputs": [
    {
     "name": "stdout",
     "output_type": "stream",
     "text": [
      "313/313 [==============================] - 2s 8ms/step - loss: 0.9423 - accuracy: 0.7087\n"
     ]
    },
    {
     "data": {
      "text/plain": [
       "[0.9423067569732666, 0.7087000012397766]"
      ]
     },
     "execution_count": 30,
     "metadata": {},
     "output_type": "execute_result"
    }
   ],
   "source": [
    "#모델 정확도 평가\n",
    "cnn.evaluate(x_test, y_test)"
   ]
  },
  {
   "cell_type": "code",
   "execution_count": 31,
   "metadata": {},
   "outputs": [
    {
     "data": {
      "text/plain": [
       "<Figure size 640x480 with 1 Axes>"
      ]
     },
     "metadata": {},
     "output_type": "display_data"
    }
   ],
   "source": [
    "import matplotlib.pyplot as plt\n",
    "\n",
    "plt.plot(hist.history['accuracy'])\n",
    "plt.plot(hist.history['val_accuracy'])\n",
    "\n",
    "plt.title('Accuracy Trend')\n",
    "plt.ylabel('accuracy')\n",
    "plt.xlabel('epoch')\n",
    "plt.legend(['train', 'validation'], loc='best')\n",
    "\n",
    "plt.grid()\n",
    "plt.show()"
   ]
  },
  {
   "cell_type": "code",
   "execution_count": 32,
   "metadata": {},
   "outputs": [
    {
     "data": {
      "image/png": "[encoded data removed]",
      "text/plain": [
       "<Figure size 432x288 with 1 Axes>"
      ]
     },
     "metadata": {
      "needs_background": "light"
     },
     "output_type": "display_data"
    }
   ],
   "source": [
    "plt.plot(hist.history['loss'])\n",
    "plt.plot(hist.history['val_loss'])\n",
    "\n",
    "plt.title('Loss Trend')\n",
    "plt.ylabel('loss')\n",
    "plt.xlabel('epoch')\n",
    "plt.legend(['train', 'validation'], loc='best')\n",
    "\n",
    "plt.grid()\n",
    "plt.show()"
   ]
  },
  {
   "cell_type": "code",
   "execution_count": null,
   "metadata": {},
   "outputs": [],
   "source": []
  }
 ],
 "metadata": {
  "kernelspec": {
   "display_name": "Python 3",
   "language": "python",
   "name": "python3"
  },
  "language_info": {
   "codemirror_mode": {
    "name": "ipython",
    "version": 3
   },
   "file_extension": ".py",
   "mimetype": "text/x-python",
   "name": "python",
   "nbconvert_exporter": "python",
   "pygments_lexer": "ipython3",
   "version": "3.7.4"
  }
 },
 "nbformat": 4,
 "nbformat_minor": 2
}
