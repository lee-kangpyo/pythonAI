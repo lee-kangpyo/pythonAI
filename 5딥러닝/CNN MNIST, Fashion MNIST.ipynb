{
 "cells": [
  {
   "cell_type": "code",
   "execution_count": 1,
   "metadata": {},
   "outputs": [
    {
     "name": "stderr",
     "output_type": "stream",
     "text": [
      "<frozen importlib._bootstrap>:219: RuntimeWarning: numpy.ufunc size changed, may indicate binary incompatibility. Expected 192 from C header, got 216 from PyObject\n"
     ]
    }
   ],
   "source": [
    "import numpy as np\n",
    "import tensorflow as tf\n",
    "from tensorflow.keras.datasets import mnist\n",
    "from tensorflow.keras.models import Sequential\n",
    "from tensorflow.keras.layers import Conv2D, MaxPool2D\n",
    "from tensorflow.keras.layers import Flatten, Dense, Dropout"
   ]
  },
  {
   "cell_type": "code",
   "execution_count": 2,
   "metadata": {},
   "outputs": [
    {
     "name": "stdout",
     "output_type": "stream",
     "text": [
      "(60000, 28, 28, 1) (10000, 28, 28, 1)\n",
      "(60000,) (10000,)\n"
     ]
    }
   ],
   "source": [
    "(x_train, y_train), (x_test, y_test) = mnist.load_data()\n",
    "\n",
    "x_train = x_train.reshape(-1, 28, 28, 1)\n",
    "x_test = x_test.reshape(-1, 28, 28, 1)\n",
    "\n",
    "print(x_train.shape, x_test.shape)\n",
    "print(y_train.shape, y_test.shape)\n",
    "\n",
    "x_train = x_train.astype(np.float32) / 255.0\n",
    "x_test = x_test.astype(np.float32) / 255.0"
   ]
  },
  {
   "cell_type": "code",
   "execution_count": 3,
   "metadata": {},
   "outputs": [
    {
     "name": "stdout",
     "output_type": "stream",
     "text": [
      "Model: \"sequential\"\n",
      "_________________________________________________________________\n",
      "Layer (type)                 Output Shape              Param #   \n",
      "=================================================================\n",
      "conv2d (Conv2D)              (None, 26, 26, 32)        320       \n",
      "_________________________________________________________________\n",
      "conv2d_1 (Conv2D)            (None, 24, 24, 64)        18496     \n",
      "_________________________________________________________________\n",
      "dropout (Dropout)            (None, 24, 24, 64)        0         \n",
      "_________________________________________________________________\n",
      "flatten (Flatten)            (None, 36864)             0         \n",
      "_________________________________________________________________\n",
      "dense (Dense)                (None, 128)               4718720   \n",
      "_________________________________________________________________\n",
      "dropout_1 (Dropout)          (None, 128)               0         \n",
      "_________________________________________________________________\n",
      "dense_1 (Dense)              (None, 10)                1290      \n",
      "=================================================================\n",
      "Total params: 4,738,826\n",
      "Trainable params: 4,738,826\n",
      "Non-trainable params: 0\n",
      "_________________________________________________________________\n"
     ]
    }
   ],
   "source": [
    "# cnn 모델 구축\n",
    "\n",
    "cnn = Sequential()\n",
    "\n",
    "cnn.add(Conv2D(input_shape=(28, 28, 1), kernel_size=(3,3), filters = 32, activation = 'relu'))\n",
    "cnn.add(Conv2D(kernel_size=(3,3), filters = 64, activation = 'relu'))\n",
    "cnn.add(Dropout(0.25))\n",
    "\n",
    "cnn.add(Flatten())\n",
    "\n",
    "cnn.add(Dense(128, activation='relu'))\n",
    "cnn.add(Dropout(0.5))\n",
    "cnn.add(Dense(10, activation='softmax'))\n",
    "\n",
    "cnn.summary()"
   ]
  },
  {
   "cell_type": "code",
   "execution_count": 4,
   "metadata": {
    "scrolled": false
   },
   "outputs": [
    {
     "name": "stderr",
     "output_type": "stream",
     "text": [
      "<frozen importlib._bootstrap>:219: RuntimeWarning: numpy.ufunc size changed, may indicate binary incompatibility. Expected 192 from C header, got 216 from PyObject\n"
     ]
    },
    {
     "name": "stdout",
     "output_type": "stream",
     "text": [
      "Epoch 1/30\n",
      "469/469 [==============================] - 108s 227ms/step - loss: 0.2081 - accuracy: 0.9372 - val_loss: 0.0502 - val_accuracy: 0.9849\n",
      "Epoch 2/30\n",
      "469/469 [==============================] - 107s 228ms/step - loss: 0.0777 - accuracy: 0.9769 - val_loss: 0.0438 - val_accuracy: 0.9863\n",
      "Epoch 3/30\n",
      "469/469 [==============================] - 107s 228ms/step - loss: 0.0572 - accuracy: 0.9826 - val_loss: 0.0325 - val_accuracy: 0.9884\n",
      "Epoch 4/30\n",
      "469/469 [==============================] - 107s 228ms/step - loss: 0.0440 - accuracy: 0.9866 - val_loss: 0.0289 - val_accuracy: 0.9904\n",
      "Epoch 5/30\n",
      "469/469 [==============================] - 107s 228ms/step - loss: 0.0372 - accuracy: 0.9887 - val_loss: 0.0316 - val_accuracy: 0.9891\n",
      "Epoch 6/30\n",
      "469/469 [==============================] - 106s 227ms/step - loss: 0.0313 - accuracy: 0.9899 - val_loss: 0.0297 - val_accuracy: 0.9916\n",
      "Epoch 7/30\n",
      "469/469 [==============================] - 107s 229ms/step - loss: 0.0277 - accuracy: 0.9908 - val_loss: 0.0285 - val_accuracy: 0.9904\n",
      "Epoch 8/30\n",
      "469/469 [==============================] - 106s 226ms/step - loss: 0.0234 - accuracy: 0.9927 - val_loss: 0.0368 - val_accuracy: 0.9900\n",
      "Epoch 9/30\n",
      "469/469 [==============================] - 107s 227ms/step - loss: 0.0194 - accuracy: 0.9937 - val_loss: 0.0337 - val_accuracy: 0.9908\n",
      "Epoch 10/30\n",
      "469/469 [==============================] - 107s 227ms/step - loss: 0.0194 - accuracy: 0.9936 - val_loss: 0.0352 - val_accuracy: 0.9909\n",
      "Epoch 11/30\n",
      "469/469 [==============================] - 107s 228ms/step - loss: 0.0168 - accuracy: 0.9947 - val_loss: 0.0308 - val_accuracy: 0.9907\n",
      "Epoch 12/30\n",
      "469/469 [==============================] - 108s 229ms/step - loss: 0.0150 - accuracy: 0.9950 - val_loss: 0.0382 - val_accuracy: 0.9906\n",
      "Epoch 13/30\n",
      "469/469 [==============================] - 107s 228ms/step - loss: 0.0150 - accuracy: 0.9949 - val_loss: 0.0394 - val_accuracy: 0.9898\n",
      "Epoch 14/30\n",
      "469/469 [==============================] - 107s 227ms/step - loss: 0.0127 - accuracy: 0.9959 - val_loss: 0.0348 - val_accuracy: 0.9914\n",
      "Epoch 15/30\n",
      "469/469 [==============================] - 107s 227ms/step - loss: 0.0120 - accuracy: 0.9957 - val_loss: 0.0413 - val_accuracy: 0.9904\n",
      "Epoch 16/30\n",
      "469/469 [==============================] - 107s 227ms/step - loss: 0.0105 - accuracy: 0.9963 - val_loss: 0.0383 - val_accuracy: 0.9914\n",
      "Epoch 17/30\n",
      "469/469 [==============================] - 106s 227ms/step - loss: 0.0102 - accuracy: 0.9964 - val_loss: 0.0415 - val_accuracy: 0.9910\n",
      "Epoch 18/30\n",
      "469/469 [==============================] - 107s 227ms/step - loss: 0.0112 - accuracy: 0.9963 - val_loss: 0.0335 - val_accuracy: 0.9916\n",
      "Epoch 19/30\n",
      "469/469 [==============================] - 107s 229ms/step - loss: 0.0095 - accuracy: 0.9968 - val_loss: 0.0378 - val_accuracy: 0.9918\n",
      "Epoch 20/30\n",
      "469/469 [==============================] - 108s 229ms/step - loss: 0.0097 - accuracy: 0.9966 - val_loss: 0.0329 - val_accuracy: 0.9921\n",
      "Epoch 21/30\n",
      "469/469 [==============================] - 107s 229ms/step - loss: 0.0078 - accuracy: 0.9975 - val_loss: 0.0426 - val_accuracy: 0.9914\n",
      "Epoch 22/30\n",
      "469/469 [==============================] - 107s 229ms/step - loss: 0.0070 - accuracy: 0.9975 - val_loss: 0.0469 - val_accuracy: 0.9905\n",
      "Epoch 23/30\n",
      "469/469 [==============================] - 107s 228ms/step - loss: 0.0094 - accuracy: 0.9966 - val_loss: 0.0426 - val_accuracy: 0.9903\n",
      "Epoch 24/30\n",
      "469/469 [==============================] - 107s 229ms/step - loss: 0.0075 - accuracy: 0.9974 - val_loss: 0.0374 - val_accuracy: 0.9917\n",
      "Epoch 25/30\n",
      "469/469 [==============================] - 108s 230ms/step - loss: 0.0079 - accuracy: 0.9970 - val_loss: 0.0473 - val_accuracy: 0.9915\n",
      "Epoch 26/30\n",
      "469/469 [==============================] - 81s 173ms/step - loss: 0.0067 - accuracy: 0.9977 - val_loss: 0.0485 - val_accuracy: 0.9906\n",
      "Epoch 27/30\n",
      "469/469 [==============================] - 76s 162ms/step - loss: 0.0070 - accuracy: 0.9976 - val_loss: 0.0496 - val_accuracy: 0.9911\n",
      "Epoch 28/30\n",
      "469/469 [==============================] - 77s 164ms/step - loss: 0.0073 - accuracy: 0.9977 - val_loss: 0.0482 - val_accuracy: 0.9907\n",
      "Epoch 29/30\n",
      "469/469 [==============================] - 78s 166ms/step - loss: 0.0081 - accuracy: 0.9975 - val_loss: 0.0444 - val_accuracy: 0.9909\n",
      "Epoch 30/30\n",
      "469/469 [==============================] - 78s 166ms/step - loss: 0.0060 - accuracy: 0.9976 - val_loss: 0.0458 - val_accuracy: 0.9909\n"
     ]
    }
   ],
   "source": [
    "cnn.compile(loss='sparse_categorical_crossentropy', optimizer=tf.keras.optimizers.Adam(), metrics=['accuracy'])\n",
    "\n",
    "hist = cnn.fit(x_train, y_train, batch_size=128, epochs=30, validation_data=(x_test, y_test))"
   ]
  },
  {
   "cell_type": "code",
   "execution_count": 5,
   "metadata": {},
   "outputs": [
    {
     "name": "stdout",
     "output_type": "stream",
     "text": [
      "313/313 [==============================] - 3s 11ms/step - loss: 0.0458 - accuracy: 0.9909\n"
     ]
    },
    {
     "data": {
      "text/plain": [
       "[0.045827656984329224, 0.9908999800682068]"
      ]
     },
     "execution_count": 5,
     "metadata": {},
     "output_type": "execute_result"
    }
   ],
   "source": [
    "cnn.evaluate(x_test, y_test)"
   ]
  },
  {
   "cell_type": "code",
   "execution_count": 7,
   "metadata": {},
   "outputs": [
    {
     "data": {
      "image/png": "[encoded data removed]",
      "text/plain": [
       "<Figure size 432x288 with 1 Axes>"
      ]
     },
     "metadata": {
      "needs_background": "light"
     },
     "output_type": "display_data"
    }
   ],
   "source": [
    "import matplotlib.pyplot as plt\n",
    "\n",
    "plt.plot(hist.history[\"accuracy\"])\n",
    "plt.plot(hist.history[\"val_accuracy\"])\n",
    "plt.title(\"Accuracy Trend\")\n",
    "plt.ylabel(\"accuracy\")\n",
    "plt.xlabel(\"epoch\")\n",
    "plt.legend([\"train\", \"validation\"], loc=\"best\")\n",
    "plt.grid()\n",
    "plt.show()"
   ]
  },
  {
   "cell_type": "code",
   "execution_count": 8,
   "metadata": {},
   "outputs": [
    {
     "data": {
      "image/png": "[encoded data removed]",
      "text/plain": [
       "<Figure size 432x288 with 1 Axes>"
      ]
     },
     "metadata": {
      "needs_background": "light"
     },
     "output_type": "display_data"
    }
   ],
   "source": [
    "plt.plot(hist.history[\"loss\"])\n",
    "plt.plot(hist.history[\"val_loss\"])\n",
    "plt.title(\"Loss Trend\")\n",
    "plt.ylabel(\"loss\")\n",
    "plt.xlabel(\"epoch\")\n",
    "plt.legend([\"train\", \"validation\"], loc=\"best\")\n",
    "plt.grid()\n",
    "plt.show()"
   ]
  },
  {
   "cell_type": "code",
   "execution_count": null,
   "metadata": {},
   "outputs": [],
   "source": []
  }
 ],
 "metadata": {
  "kernelspec": {
   "display_name": "Python 3",
   "language": "python",
   "name": "python3"
  },
  "language_info": {
   "codemirror_mode": {
    "name": "ipython",
    "version": 3
   },
   "file_extension": ".py",
   "mimetype": "text/x-python",
   "name": "python",
   "nbconvert_exporter": "python",
   "pygments_lexer": "ipython3",
   "version": "3.8.3"
  }
 },
 "nbformat": 4,
 "nbformat_minor": 4
}
