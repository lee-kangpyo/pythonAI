{
 "cells": [
  {
   "cell_type": "markdown",
   "metadata": {},
   "source": [
    "# EagerExecution( 즉시 실행 모드 )"
   ]
  },
  {
   "cell_type": "markdown",
   "metadata": {},
   "source": [
    "## EagerExecution 기능으로 텐서 플로우를 일반적인 파이썬 처럼 사용할수 있다.\n",
    "### session()과 run() 함수가 없어도됨"
   ]
  },
  {
   "cell_type": "code",
   "execution_count": 7,
   "metadata": {},
   "outputs": [
    {
     "data": {
      "text/plain": [
       "'2.6.0'"
      ]
     },
     "execution_count": 7,
     "metadata": {},
     "output_type": "execute_result"
    }
   ],
   "source": [
    "import tensorflow as tf\n",
    "import numpy as np\n",
    "tf.__version__"
   ]
  },
  {
   "cell_type": "code",
   "execution_count": 8,
   "metadata": {},
   "outputs": [
    {
     "name": "stdout",
     "output_type": "stream",
     "text": [
      "<class 'tensorflow.python.framework.ops.EagerTensor'> tf.Tensor(30, shape=(), dtype=int32)\n",
      "<class 'numpy.int32'> 30\n"
     ]
    }
   ],
   "source": [
    "a = tf.constant(10)\n",
    "b = tf.constant(20)\n",
    "c = a + b\n",
    "d = (a + b).numpy()\n",
    "print(type(c), c)\n",
    "print(type(d), d)"
   ]
  },
  {
   "cell_type": "code",
   "execution_count": 9,
   "metadata": {},
   "outputs": [
    {
     "name": "stdout",
     "output_type": "stream",
     "text": [
      "<class 'tensorflow.python.framework.ops.EagerTensor'>\n",
      "tf.Tensor(30, shape=(), dtype=int32)\n"
     ]
    }
   ],
   "source": [
    "d_numpy_totensor = tf.convert_to_tensor(d)\n",
    "print(type(d_numpy_totensor))\n",
    "print(d_numpy_totensor)"
   ]
  },
  {
   "cell_type": "markdown",
   "metadata": {},
   "source": [
    "# 상수 와 변수"
   ]
  },
  {
   "cell_type": "code",
   "execution_count": 14,
   "metadata": {},
   "outputs": [
    {
     "name": "stdout",
     "output_type": "stream",
     "text": [
      "tf.Tensor(10, shape=(), dtype=int32)\n",
      "<tf.Variable 'Variable:0' shape=(1,) dtype=float32, numpy=array([0.81954974], dtype=float32)>\n",
      "step =  0 , w =  [1.8195498]\n",
      "step =  1 , w =  [2.8195498]\n"
     ]
    }
   ],
   "source": [
    "import tensorflow as tf\n",
    "# 상수\n",
    "a = tf.constant(10)\n",
    "# 변수\n",
    "w = tf.Variable(tf.random.normal([1]))\n",
    "print(a)\n",
    "print(w)\n",
    "\n",
    "# 세션초기화 없이 즉시 사용 가능\n",
    "for step in range(2):\n",
    "    w = w + 1.0\n",
    "    print('step = ', step, ', w = ', w.numpy())"
   ]
  },
  {
   "cell_type": "markdown",
   "metadata": {},
   "source": [
    "# placeholder"
   ]
  },
  {
   "cell_type": "code",
   "execution_count": 16,
   "metadata": {},
   "outputs": [
    {
     "name": "stdout",
     "output_type": "stream",
     "text": [
      "<class 'tensorflow.python.framework.ops.EagerTensor'>\n",
      "4.0\n"
     ]
    }
   ],
   "source": [
    "# 1x 버전에서는 연산을 하기위해서는 tf.placeholder()에 입력값을 주고 이 값을 이용해 연산을 실행했었다.\n",
    "# 텐서 플로우 2.X 에서는 사라짐\n",
    "\n",
    "import tensorflow as tf\n",
    "\n",
    "a = tf.constant(1.0)\n",
    "b = tf.constant(3.0)\n",
    "\n",
    "def tensor_sum(x, y):\n",
    "    return x + y\n",
    "\n",
    "result = tensor_sum(a, b)\n",
    "\n",
    "print(type(result))\n",
    "print(result.numpy())"
   ]
  },
  {
   "cell_type": "code",
   "execution_count": null,
   "metadata": {},
   "outputs": [],
   "source": []
  }
 ],
 "metadata": {
  "kernelspec": {
   "display_name": "Python 3",
   "language": "python",
   "name": "python3"
  },
  "language_info": {
   "codemirror_mode": {
    "name": "ipython",
    "version": 3
   },
   "file_extension": ".py",
   "mimetype": "text/x-python",
   "name": "python",
   "nbconvert_exporter": "python",
   "pygments_lexer": "ipython3",
   "version": "3.7.4"
  }
 },
 "nbformat": 4,
 "nbformat_minor": 2
}
