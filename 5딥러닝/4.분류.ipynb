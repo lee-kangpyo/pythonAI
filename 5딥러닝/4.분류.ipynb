{
 "cells": [
  {
   "cell_type": "markdown",
   "metadata": {},
   "source": [
    "## 훈련 데이터의 특성과 관계 등을 파악 후 미지의 입력 데이터에 대해 결과가 어떤 종류의 값으로 분류 될 수 있는지 예측\n",
    "\n",
    "## 스팸문자, 암 판정으로 사용"
   ]
  },
  {
   "cell_type": "code",
   "execution_count": null,
   "metadata": {},
   "outputs": [],
   "source": [
    "#공부 시간과 합격 여부로 공부시간에 대해 합격 여부를 예측하는 방식을 구현할것\n"
   ]
  }
 ],
 "metadata": {
  "kernelspec": {
   "display_name": "Python 3",
   "language": "python",
   "name": "python3"
  },
  "language_info": {
   "codemirror_mode": {
    "name": "ipython",
    "version": 3
   },
   "file_extension": ".py",
   "mimetype": "text/x-python",
   "name": "python",
   "nbconvert_exporter": "python",
   "pygments_lexer": "ipython3",
   "version": "3.7.4"
  }
 },
 "nbformat": 4,
 "nbformat_minor": 2
}
