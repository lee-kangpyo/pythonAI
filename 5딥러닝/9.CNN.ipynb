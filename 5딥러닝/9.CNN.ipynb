{
 "cells": [
  {
   "cell_type": "code",
   "execution_count": 1,
   "metadata": {},
   "outputs": [],
   "source": [
    "import numpy as np\n",
    "import tensorflow as tf\n",
    "from tensorflow.keras.datasets import mnist\n",
    "from tensorflow.keras.models import Sequential\n",
    "from tensorflow.keras.layers import Conv2D, MaxPool2D\n",
    "from tensorflow.keras.layers import Flatten, Dense, Dropout"
   ]
  },
  {
   "cell_type": "code",
   "execution_count": 2,
   "metadata": {},
   "outputs": [
    {
     "name": "stdout",
     "output_type": "stream",
     "text": [
      "(60000, 28, 28, 1) (10000, 28, 28, 1)\n",
      "(60000,) (10000,)\n"
     ]
    }
   ],
   "source": [
    "(x_train, y_train), (x_test, y_test) = mnist.load_data()\n",
    "\n",
    "x_train = x_train.reshape(-1, 28, 28, 1)\n",
    "x_test = x_test.reshape(-1, 28, 28, 1)\n",
    "\n",
    "print(x_train.shape, x_test.shape)\n",
    "print(y_train.shape, y_test.shape)\n",
    "\n",
    "x_train = x_train.astype(np.float32) / 255.0\n",
    "x_test = x_test.astype(np.float32) / 255.0"
   ]
  },
  {
   "cell_type": "code",
   "execution_count": 5,
   "metadata": {},
   "outputs": [
    {
     "name": "stdout",
     "output_type": "stream",
     "text": [
      "Model: \"sequential_1\"\n",
      "_________________________________________________________________\n",
      "Layer (type)                 Output Shape              Param #   \n",
      "=================================================================\n",
      "conv2d_2 (Conv2D)            (None, 26, 26, 32)        320       \n",
      "_________________________________________________________________\n",
      "conv2d_3 (Conv2D)            (None, 24, 24, 64)        18496     \n",
      "_________________________________________________________________\n",
      "max_pooling2d (MaxPooling2D) (None, 12, 12, 64)        0         \n",
      "_________________________________________________________________\n",
      "dropout (Dropout)            (None, 12, 12, 64)        0         \n",
      "_________________________________________________________________\n",
      "flatten (Flatten)            (None, 9216)              0         \n",
      "_________________________________________________________________\n",
      "dense (Dense)                (None, 128)               1179776   \n",
      "_________________________________________________________________\n",
      "dropout_1 (Dropout)          (None, 128)               0         \n",
      "_________________________________________________________________\n",
      "dense_1 (Dense)              (None, 10)                1290      \n",
      "=================================================================\n",
      "Total params: 1,199,882\n",
      "Trainable params: 1,199,882\n",
      "Non-trainable params: 0\n",
      "_________________________________________________________________\n"
     ]
    }
   ],
   "source": [
    "# cnn 모델 구축\n",
    "\n",
    "cnn = Sequential()\n",
    "\n",
    "cnn.add(Conv2D(input_shape=(28, 28, 1), kernel_size=(3,3), filters = 32, activation = 'relu'))\n",
    "cnn.add(Conv2D(kernel_size=(3,3), filters = 64, activation = 'relu'))\n",
    "cnn.add(MaxPool2D(pool_size=(2,2)))\n",
    "cnn.add(Dropout(0.25))\n",
    "\n",
    "cnn.add(Flatten())\n",
    "\n",
    "cnn.add(Dense(128, activation='relu'))\n",
    "cnn.add(Dropout(0.5))\n",
    "cnn.add(Dense(10, activation='softmax'))\n",
    "\n",
    "cnn.summary()"
   ]
  },
  {
   "cell_type": "code",
   "execution_count": 6,
   "metadata": {
    "scrolled": false
   },
   "outputs": [
    {
     "name": "stdout",
     "output_type": "stream",
     "text": [
      "Epoch 1/30\n",
      "469/469 [==============================] - 48s 101ms/step - loss: 0.2635 - accuracy: 0.9197 - val_loss: 0.0545 - val_accuracy: 0.9825\n",
      "Epoch 2/30\n",
      "469/469 [==============================] - 47s 100ms/step - loss: 0.0913 - accuracy: 0.9724 - val_loss: 0.0398 - val_accuracy: 0.9864\n",
      "Epoch 3/30\n",
      "469/469 [==============================] - 53s 112ms/step - loss: 0.0691 - accuracy: 0.9799 - val_loss: 0.0355 - val_accuracy: 0.9882\n",
      "Epoch 4/30\n",
      "469/469 [==============================] - 50s 106ms/step - loss: 0.0576 - accuracy: 0.9826 - val_loss: 0.0316 - val_accuracy: 0.9900\n",
      "Epoch 5/30\n",
      "469/469 [==============================] - 74s 157ms/step - loss: 0.0474 - accuracy: 0.9851 - val_loss: 0.0324 - val_accuracy: 0.9895\n",
      "Epoch 6/30\n",
      "469/469 [==============================] - 88s 187ms/step - loss: 0.0422 - accuracy: 0.9865 - val_loss: 0.0276 - val_accuracy: 0.9913\n",
      "Epoch 7/30\n",
      "469/469 [==============================] - 89s 189ms/step - loss: 0.0350 - accuracy: 0.9894 - val_loss: 0.0305 - val_accuracy: 0.9908\n",
      "Epoch 8/30\n",
      "469/469 [==============================] - 88s 187ms/step - loss: 0.0329 - accuracy: 0.9893 - val_loss: 0.0338 - val_accuracy: 0.9896\n",
      "Epoch 9/30\n",
      "469/469 [==============================] - 87s 186ms/step - loss: 0.0294 - accuracy: 0.9907 - val_loss: 0.0300 - val_accuracy: 0.9919\n",
      "Epoch 10/30\n",
      "469/469 [==============================] - 92s 196ms/step - loss: 0.0279 - accuracy: 0.9910 - val_loss: 0.0292 - val_accuracy: 0.9917279 - accuracy: 0.\n",
      "Epoch 11/30\n",
      "469/469 [==============================] - 88s 188ms/step - loss: 0.0259 - accuracy: 0.9916 - val_loss: 0.0260 - val_accuracy: 0.9918\n",
      "Epoch 12/30\n",
      "469/469 [==============================] - 88s 187ms/step - loss: 0.0239 - accuracy: 0.9922 - val_loss: 0.0285 - val_accuracy: 0.9920\n",
      "Epoch 13/30\n",
      "469/469 [==============================] - 94s 201ms/step - loss: 0.0208 - accuracy: 0.9930 - val_loss: 0.0353 - val_accuracy: 0.9905\n",
      "Epoch 14/30\n",
      "469/469 [==============================] - 88s 187ms/step - loss: 0.0215 - accuracy: 0.9930 - val_loss: 0.0307 - val_accuracy: 0.9916\n",
      "Epoch 15/30\n",
      "469/469 [==============================] - 91s 195ms/step - loss: 0.0194 - accuracy: 0.9936 - val_loss: 0.0306 - val_accuracy: 0.9924\n",
      "Epoch 16/30\n",
      "469/469 [==============================] - 88s 188ms/step - loss: 0.0184 - accuracy: 0.9938 - val_loss: 0.0281 - val_accuracy: 0.9930\n",
      "Epoch 17/30\n",
      "469/469 [==============================] - 84s 178ms/step - loss: 0.0161 - accuracy: 0.9941 - val_loss: 0.0297 - val_accuracy: 0.9924\n",
      "Epoch 18/30\n",
      "469/469 [==============================] - 83s 177ms/step - loss: 0.0152 - accuracy: 0.9949 - val_loss: 0.0312 - val_accuracy: 0.9928\n",
      "Epoch 19/30\n",
      "469/469 [==============================] - 82s 174ms/step - loss: 0.0167 - accuracy: 0.9945 - val_loss: 0.0319 - val_accuracy: 0.9931\n",
      "Epoch 20/30\n",
      "469/469 [==============================] - 82s 175ms/step - loss: 0.0147 - accuracy: 0.9951 - val_loss: 0.0352 - val_accuracy: 0.9917\n",
      "Epoch 21/30\n",
      "469/469 [==============================] - 82s 175ms/step - loss: 0.0144 - accuracy: 0.9950 - val_loss: 0.0311 - val_accuracy: 0.9932\n",
      "Epoch 22/30\n",
      "469/469 [==============================] - 82s 174ms/step - loss: 0.0136 - accuracy: 0.9956 - val_loss: 0.0334 - val_accuracy: 0.9934\n",
      "Epoch 23/30\n",
      "469/469 [==============================] - 81s 173ms/step - loss: 0.0140 - accuracy: 0.9955 - val_loss: 0.0332 - val_accuracy: 0.9925\n",
      "Epoch 24/30\n",
      "469/469 [==============================] - 82s 174ms/step - loss: 0.0122 - accuracy: 0.9957 - val_loss: 0.0378 - val_accuracy: 0.9921\n",
      "Epoch 25/30\n",
      "469/469 [==============================] - 79s 169ms/step - loss: 0.0111 - accuracy: 0.9959 - val_loss: 0.0425 - val_accuracy: 0.9914\n",
      "Epoch 26/30\n",
      "469/469 [==============================] - 77s 164ms/step - loss: 0.0125 - accuracy: 0.9957 - val_loss: 0.0332 - val_accuracy: 0.9927\n",
      "Epoch 27/30\n",
      "469/469 [==============================] - 76s 162ms/step - loss: 0.0111 - accuracy: 0.9962 - val_loss: 0.0313 - val_accuracy: 0.9931\n",
      "Epoch 28/30\n",
      "469/469 [==============================] - 76s 163ms/step - loss: 0.0109 - accuracy: 0.9961 - val_loss: 0.0316 - val_accuracy: 0.9933\n",
      "Epoch 29/30\n",
      "469/469 [==============================] - 76s 162ms/step - loss: 0.0129 - accuracy: 0.9959 - val_loss: 0.0321 - val_accuracy: 0.9930\n",
      "Epoch 30/30\n",
      "469/469 [==============================] - 76s 162ms/step - loss: 0.0103 - accuracy: 0.9962 - val_loss: 0.0320 - val_accuracy: 0.9926\n"
     ]
    }
   ],
   "source": [
    "#CNN 모델 컴파일 및 학습\n",
    "cnn.compile(loss='sparse_categorical_crossentropy', optimizer=tf.keras.optimizers.Adam(), metrics=['accuracy'])\n",
    "\n",
    "hist = cnn.fit(x_train, y_train, batch_size=128, epochs=30, validation_data=(x_test, y_test))"
   ]
  },
  {
   "cell_type": "code",
   "execution_count": 6,
   "metadata": {},
   "outputs": [
    {
     "name": "stdout",
     "output_type": "stream",
     "text": [
      "313/313 [==============================] - 2s 8ms/step - loss: 0.0535 - accuracy: 0.9916\n"
     ]
    },
    {
     "data": {
      "text/plain": [
       "[0.053473059087991714, 0.991599977016449]"
      ]
     },
     "execution_count": 6,
     "metadata": {},
     "output_type": "execute_result"
    }
   ],
   "source": [
    "#모델 정확도 평가\n",
    "cnn.evaluate(x_test, y_test)"
   ]
  },
  {
   "cell_type": "code",
   "execution_count": 7,
   "metadata": {},
   "outputs": [
    {
     "data": {
      "text/plain": [
       "<Figure size 640x480 with 1 Axes>"
      ]
     },
     "metadata": {},
     "output_type": "display_data"
    }
   ],
   "source": [
    "import matplotlib.pyplot as plt\n",
    "\n",
    "plt.plot(hist.history['accuracy'])\n",
    "plt.plot(hist.history['val_accuracy'])\n",
    "\n",
    "plt.title('Accuracy Trend')\n",
    "plt.ylabel('accuracy')\n",
    "plt.xlabel('epoch')\n",
    "plt.legend(['train', 'validation'], loc='best')\n",
    "\n",
    "plt.grid()\n",
    "plt.show()"
   ]
  },
  {
   "cell_type": "code",
   "execution_count": 8,
   "metadata": {},
   "outputs": [
    {
     "data": {
      "image/png": "[encoded data removed]",
      "text/plain": [
       "<Figure size 432x288 with 1 Axes>"
      ]
     },
     "metadata": {
      "needs_background": "light"
     },
     "output_type": "display_data"
    }
   ],
   "source": [
    "plt.plot(hist.history['loss'])\n",
    "plt.plot(hist.history['val_loss'])\n",
    "\n",
    "plt.title('Loss Trend')\n",
    "plt.ylabel('loss')\n",
    "plt.xlabel('epoch')\n",
    "plt.legend(['train', 'validation'], loc='best')\n",
    "\n",
    "plt.grid()\n",
    "plt.show()"
   ]
  },
  {
   "cell_type": "code",
   "execution_count": null,
   "metadata": {},
   "outputs": [],
   "source": []
  },
  {
   "cell_type": "code",
   "execution_count": null,
   "metadata": {},
   "outputs": [],
   "source": []
  }
 ],
 "metadata": {
  "kernelspec": {
   "display_name": "Python 3",
   "language": "python",
   "name": "python3"
  },
  "language_info": {
   "codemirror_mode": {
    "name": "ipython",
    "version": 3
   },
   "file_extension": ".py",
   "mimetype": "text/x-python",
   "name": "python",
   "nbconvert_exporter": "python",
   "pygments_lexer": "ipython3",
   "version": "3.7.4"
  }
 },
 "nbformat": 4,
 "nbformat_minor": 4
}
