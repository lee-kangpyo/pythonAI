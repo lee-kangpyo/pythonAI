{
 "cells": [
  {
   "cell_type": "code",
   "execution_count": 5,
   "metadata": {},
   "outputs": [],
   "source": [
    "import numpy as np\n",
    "from sklearn.naive_bayes import GaussianNB\n",
    "from sklearn.metrics import accuracy_score\n",
    "import glob"
   ]
  },
  {
   "cell_type": "code",
   "execution_count": 6,
   "metadata": {},
   "outputs": [],
   "source": [
    "# 유니코드 포인트로 출현 빈도 판정하기\n",
    "def countcodePoint2(str):\n",
    "    # 유니코드 포인트를 저장할 배열 준비하기\n",
    "    counter = np.zeros(65535)\n",
    "    \n",
    "    for i in range(len(str)):\n",
    "        # 각문자를 유니코드 포인트로 변환하기\n",
    "        code_point = ord(str[i])\n",
    "        if code_point > 65535:\n",
    "            continue\n",
    "        # 출현횟수 세기\n",
    "        counter[code_point] += 1\n",
    "\n",
    "        # 각 요소를 문자 수로 나눠 정규화하기\n",
    "        counter = counter/len(str)\n",
    "        return counter"
   ]
  },
  {
   "cell_type": "code",
   "execution_count": 10,
   "metadata": {},
   "outputs": [],
   "source": [
    "# 학습 전용 데이터 준비하기\n",
    "index = 0\n",
    "x_train = []\n",
    "y_train = []\n",
    "for file in glob.glob(\"./train/*.txt\"):\n",
    "    # 언어 정보 추출하고 레이블로 지정하기\n",
    "    # file -> './train\\de_cat.txt'\n",
    "    y_train.append(file[8:10])\n",
    "    \n",
    "    "
   ]
  },
  {
   "cell_type": "code",
   "execution_count": null,
   "metadata": {},
   "outputs": [],
   "source": []
  }
 ],
 "metadata": {
  "kernelspec": {
   "display_name": "Python 3",
   "language": "python",
   "name": "python3"
  },
  "language_info": {
   "codemirror_mode": {
    "name": "ipython",
    "version": 3
   },
   "file_extension": ".py",
   "mimetype": "text/x-python",
   "name": "python",
   "nbconvert_exporter": "python",
   "pygments_lexer": "ipython3",
   "version": "3.7.4"
  }
 },
 "nbformat": 4,
 "nbformat_minor": 2
}
