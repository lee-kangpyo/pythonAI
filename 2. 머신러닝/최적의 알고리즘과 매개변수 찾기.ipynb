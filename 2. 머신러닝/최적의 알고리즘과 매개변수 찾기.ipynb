{
 "cells": [
  {
   "cell_type": "markdown",
   "metadata": {},
   "source": [
    "# 각 알고리즘의 정답률 비교하기 "
   ]
  },
  {
   "cell_type": "code",
   "execution_count": 34,
   "metadata": {},
   "outputs": [],
   "source": [
    "import pandas as pd\n",
    "from sklearn.model_selection import train_test_split\n",
    "from sklearn.metrics import accuracy_score\n",
    "import warnings\n",
    "from sklearn.utils import all_estimators\n"
   ]
  },
  {
   "cell_type": "code",
   "execution_count": 35,
   "metadata": {},
   "outputs": [
    {
     "data": {
      "text/html": [
       "<div>\n",
       "<style scoped>\n",
       "    .dataframe tbody tr th:only-of-type {\n",
       "        vertical-align: middle;\n",
       "    }\n",
       "\n",
       "    .dataframe tbody tr th {\n",
       "        vertical-align: top;\n",
       "    }\n",
       "\n",
       "    .dataframe thead th {\n",
       "        text-align: right;\n",
       "    }\n",
       "</style>\n",
       "<table border=\"1\" class=\"dataframe\">\n",
       "  <thead>\n",
       "    <tr style=\"text-align: right;\">\n",
       "      <th></th>\n",
       "      <th>caseno</th>\n",
       "      <th>SepalLength</th>\n",
       "      <th>SepalWidth</th>\n",
       "      <th>PetalLength</th>\n",
       "      <th>PetalWidth</th>\n",
       "      <th>Species</th>\n",
       "    </tr>\n",
       "  </thead>\n",
       "  <tbody>\n",
       "    <tr>\n",
       "      <th>0</th>\n",
       "      <td>1</td>\n",
       "      <td>5.1</td>\n",
       "      <td>3.5</td>\n",
       "      <td>1.4</td>\n",
       "      <td>0.2</td>\n",
       "      <td>setosa</td>\n",
       "    </tr>\n",
       "    <tr>\n",
       "      <th>1</th>\n",
       "      <td>2</td>\n",
       "      <td>4.9</td>\n",
       "      <td>3.0</td>\n",
       "      <td>1.4</td>\n",
       "      <td>0.2</td>\n",
       "      <td>setosa</td>\n",
       "    </tr>\n",
       "    <tr>\n",
       "      <th>2</th>\n",
       "      <td>3</td>\n",
       "      <td>4.7</td>\n",
       "      <td>3.2</td>\n",
       "      <td>1.3</td>\n",
       "      <td>0.2</td>\n",
       "      <td>setosa</td>\n",
       "    </tr>\n",
       "    <tr>\n",
       "      <th>3</th>\n",
       "      <td>4</td>\n",
       "      <td>4.6</td>\n",
       "      <td>3.1</td>\n",
       "      <td>1.5</td>\n",
       "      <td>0.2</td>\n",
       "      <td>setosa</td>\n",
       "    </tr>\n",
       "    <tr>\n",
       "      <th>4</th>\n",
       "      <td>5</td>\n",
       "      <td>5.0</td>\n",
       "      <td>3.6</td>\n",
       "      <td>1.4</td>\n",
       "      <td>0.2</td>\n",
       "      <td>setosa</td>\n",
       "    </tr>\n",
       "    <tr>\n",
       "      <th>...</th>\n",
       "      <td>...</td>\n",
       "      <td>...</td>\n",
       "      <td>...</td>\n",
       "      <td>...</td>\n",
       "      <td>...</td>\n",
       "      <td>...</td>\n",
       "    </tr>\n",
       "    <tr>\n",
       "      <th>145</th>\n",
       "      <td>146</td>\n",
       "      <td>6.7</td>\n",
       "      <td>3.0</td>\n",
       "      <td>5.2</td>\n",
       "      <td>2.3</td>\n",
       "      <td>virginica</td>\n",
       "    </tr>\n",
       "    <tr>\n",
       "      <th>146</th>\n",
       "      <td>147</td>\n",
       "      <td>6.3</td>\n",
       "      <td>2.5</td>\n",
       "      <td>5.0</td>\n",
       "      <td>1.9</td>\n",
       "      <td>virginica</td>\n",
       "    </tr>\n",
       "    <tr>\n",
       "      <th>147</th>\n",
       "      <td>148</td>\n",
       "      <td>6.5</td>\n",
       "      <td>3.0</td>\n",
       "      <td>5.2</td>\n",
       "      <td>2.0</td>\n",
       "      <td>virginica</td>\n",
       "    </tr>\n",
       "    <tr>\n",
       "      <th>148</th>\n",
       "      <td>149</td>\n",
       "      <td>6.2</td>\n",
       "      <td>3.4</td>\n",
       "      <td>5.4</td>\n",
       "      <td>2.3</td>\n",
       "      <td>virginica</td>\n",
       "    </tr>\n",
       "    <tr>\n",
       "      <th>149</th>\n",
       "      <td>150</td>\n",
       "      <td>5.9</td>\n",
       "      <td>3.0</td>\n",
       "      <td>5.1</td>\n",
       "      <td>1.8</td>\n",
       "      <td>virginica</td>\n",
       "    </tr>\n",
       "  </tbody>\n",
       "</table>\n",
       "<p>150 rows × 6 columns</p>\n",
       "</div>"
      ],
      "text/plain": [
       "     caseno  SepalLength  SepalWidth  PetalLength  PetalWidth    Species\n",
       "0         1          5.1         3.5          1.4         0.2     setosa\n",
       "1         2          4.9         3.0          1.4         0.2     setosa\n",
       "2         3          4.7         3.2          1.3         0.2     setosa\n",
       "3         4          4.6         3.1          1.5         0.2     setosa\n",
       "4         5          5.0         3.6          1.4         0.2     setosa\n",
       "..      ...          ...         ...          ...         ...        ...\n",
       "145     146          6.7         3.0          5.2         2.3  virginica\n",
       "146     147          6.3         2.5          5.0         1.9  virginica\n",
       "147     148          6.5         3.0          5.2         2.0  virginica\n",
       "148     149          6.2         3.4          5.4         2.3  virginica\n",
       "149     150          5.9         3.0          5.1         1.8  virginica\n",
       "\n",
       "[150 rows x 6 columns]"
      ]
     },
     "execution_count": 35,
     "metadata": {},
     "output_type": "execute_result"
    }
   ],
   "source": [
    "# 붓꽃 데이터 읽어들이기\n",
    "iris_data = pd.read_csv(\"./data/iris.csv\", encoding=\"utf-8\")\n",
    "iris_data"
   ]
  },
  {
   "cell_type": "code",
   "execution_count": 36,
   "metadata": {},
   "outputs": [],
   "source": [
    "# 붓꽃 데이터를 레이블과 입력 데이터로 분리하기\n",
    "y = iris_data.loc[:, \"Species\"]\n",
    "x = iris_data.loc[:, [\"SepalLength\", \"SepalWidth\", \"PetalLength\", \"PetalWidth\"]]"
   ]
  },
  {
   "cell_type": "code",
   "execution_count": 37,
   "metadata": {},
   "outputs": [],
   "source": [
    "# 학습과 테스트용으로 분리하기\n",
    "x_train, x_test, y_train, y_test = train_test_split(x, y, test_size = 0.2, train_size=0.8, shuffle = True)"
   ]
  },
  {
   "cell_type": "code",
   "execution_count": 38,
   "metadata": {},
   "outputs": [],
   "source": [
    "# classifier 알고리즘 모두 추출하기\n",
    "warnings.filterwarnings(\"ignore\")\n",
    "allAlgorithms = all_estimators(type_filter=\"classifier\")"
   ]
  },
  {
   "cell_type": "code",
   "execution_count": 39,
   "metadata": {},
   "outputs": [
    {
     "name": "stdout",
     "output_type": "stream",
     "text": [
      "AdaBoostClassifier 의 정답률= 0.9\n",
      "BaggingClassifier 의 정답률= 0.9666666666666667\n",
      "BernoulliNB 의 정답률= 0.23333333333333334\n",
      "CalibratedClassifierCV 의 정답률= 0.9\n",
      "CategoricalNB 의 정답률= 0.9\n",
      "##### ClassifierChain 에러 발생 __init__() missing 1 required positional argument: 'base_estimator'\n",
      "ComplementNB 의 정답률= 0.7666666666666667\n",
      "DecisionTreeClassifier 의 정답률= 0.9666666666666667\n",
      "DummyClassifier 의 정답률= 0.16666666666666666\n",
      "ExtraTreeClassifier 의 정답률= 0.9666666666666667\n",
      "ExtraTreesClassifier 의 정답률= 0.9666666666666667\n",
      "GaussianNB 의 정답률= 0.9666666666666667\n",
      "GaussianProcessClassifier 의 정답률= 0.9333333333333333\n",
      "GradientBoostingClassifier 의 정답률= 0.9666666666666667\n",
      "HistGradientBoostingClassifier 의 정답률= 0.9666666666666667\n",
      "KNeighborsClassifier 의 정답률= 1.0\n",
      "LabelPropagation 의 정답률= 1.0\n",
      "LabelSpreading 의 정답률= 1.0\n",
      "LinearDiscriminantAnalysis 의 정답률= 1.0\n",
      "LinearSVC 의 정답률= 0.9666666666666667\n",
      "LogisticRegression 의 정답률= 0.9666666666666667\n",
      "LogisticRegressionCV 의 정답률= 0.9666666666666667\n",
      "MLPClassifier 의 정답률= 1.0\n",
      "##### MultiOutputClassifier 에러 발생 __init__() missing 1 required positional argument: 'estimator'\n",
      "MultinomialNB 의 정답률= 1.0\n",
      "NearestCentroid 의 정답률= 0.9333333333333333\n",
      "NuSVC 의 정답률= 0.9666666666666667\n",
      "##### OneVsOneClassifier 에러 발생 __init__() missing 1 required positional argument: 'estimator'\n",
      "##### OneVsRestClassifier 에러 발생 __init__() missing 1 required positional argument: 'estimator'\n",
      "##### OutputCodeClassifier 에러 발생 __init__() missing 1 required positional argument: 'estimator'\n",
      "PassiveAggressiveClassifier 의 정답률= 0.7666666666666667\n",
      "Perceptron 의 정답률= 0.7666666666666667\n",
      "QuadraticDiscriminantAnalysis 의 정답률= 1.0\n",
      "RadiusNeighborsClassifier 의 정답률= 0.9\n",
      "RandomForestClassifier 의 정답률= 0.9666666666666667\n",
      "RidgeClassifier 의 정답률= 0.9\n",
      "RidgeClassifierCV 의 정답률= 0.9\n",
      "SGDClassifier 의 정답률= 0.9\n",
      "SVC 의 정답률= 0.9333333333333333\n",
      "##### StackingClassifier 에러 발생 __init__() missing 1 required positional argument: 'estimators'\n",
      "##### VotingClassifier 에러 발생 __init__() missing 1 required positional argument: 'estimators'\n"
     ]
    }
   ],
   "source": [
    "for(name, algorithm) in allAlgorithms:\n",
    "    try:\n",
    "        #각 알고리즘 객체 생성하기\n",
    "        clf = algorithm()\n",
    "    \n",
    "        #학습하고 평가하기\n",
    "        clf.fit(x_train, y_train)\n",
    "        y_pred = clf.predict(x_test)\n",
    "        print(name, \"의 정답률=\", accuracy_score(y_test, y_pred))\n",
    "    except Exception as ex:\n",
    "        print(\"#####\", name, \"에러 발생\", ex)\n",
    "        pass"
   ]
  },
  {
   "cell_type": "markdown",
   "metadata": {},
   "source": [
    "# 크로스 밸리데이션\n",
    "## 한국어로는 교차검증이라고 한다.\n",
    "## 학습데이터가 적은경우 평가의 신뢰성을 올릴수 있다.\n",
    "### 1. 데이터를 A, B, C 3개의 그룹으로 나눈다.\n",
    "### 2. A와 B를 학습 데이터 C를 평가 데이터로 사용해 정답률을 구한다.\n",
    "### 3. B와 C를 학습 데이터 A를 평가 데이터로 사용해 정답률을 구한다.\n",
    "### 4. C와 A를 학습 데이터 C를 평가 데이터로 사용해 정답률을 구한다.\n"
   ]
  },
  {
   "cell_type": "code",
   "execution_count": 40,
   "metadata": {},
   "outputs": [],
   "source": [
    "import pandas as pd\n",
    "from sklearn.utils import all_estimators\n",
    "from sklearn.model_selection import KFold\n",
    "import warnings\n",
    "from sklearn.model_selection import cross_val_score"
   ]
  },
  {
   "cell_type": "code",
   "execution_count": 41,
   "metadata": {},
   "outputs": [],
   "source": [
    "# 붓꽃 데이터 읽어들이기\n",
    "iris_data = pd.read_csv(\"./data/iris.csv\", encoding=\"utf-8\")"
   ]
  },
  {
   "cell_type": "code",
   "execution_count": 42,
   "metadata": {},
   "outputs": [],
   "source": [
    "# 붓꽃 데이터를 레이블과 입력 데이터로 분리하기\n",
    "y = iris_data.loc[:, \"Species\"]\n",
    "x = iris_data.loc[:, [\"SepalLength\", \"SepalWidth\", \"PetalLength\", \"PetalWidth\"]]"
   ]
  },
  {
   "cell_type": "code",
   "execution_count": 43,
   "metadata": {},
   "outputs": [],
   "source": [
    "# classifier 알고리즘 모두 추출하기\n",
    "warnings.filterwarnings(\"ignore\")\n",
    "allAlgorithms = all_estimators(type_filter=\"classifier\")"
   ]
  },
  {
   "cell_type": "code",
   "execution_count": 44,
   "metadata": {},
   "outputs": [],
   "source": [
    "# k 분할 크로스 밸리데이션 전용 객체\n",
    "kfold_cv = KFold(n_splits=5, shuffle=True)"
   ]
  },
  {
   "cell_type": "code",
   "execution_count": 45,
   "metadata": {},
   "outputs": [
    {
     "name": "stdout",
     "output_type": "stream",
     "text": [
      "AdaBoostClassifier 의 정답률= [0.83333333 1.         1.         0.93333333 0.9       ]\n",
      "BaggingClassifier 의 정답률= [0.93333333 0.93333333 1.         0.93333333 0.93333333]\n",
      "BernoulliNB 의 정답률= [0.3        0.3        0.2        0.2        0.26666667]\n",
      "CalibratedClassifierCV 의 정답률= [0.86666667 0.93333333 0.96666667 0.8        0.96666667]\n",
      "CategoricalNB 의 정답률= [0.93333333 0.93333333 0.86666667 0.96666667 0.96666667]\n",
      "##### ClassifierChain 에러 발생 __init__() missing 1 required positional argument: 'base_estimator'\n",
      "ComplementNB 의 정답률= [0.66666667 0.63333333 0.7        0.6        0.73333333]\n",
      "DecisionTreeClassifier 의 정답률= [0.93333333 1.         0.93333333 0.93333333 0.96666667]\n",
      "DummyClassifier 의 정답률= [0.43333333 0.46666667 0.36666667 0.4        0.4       ]\n",
      "ExtraTreeClassifier 의 정답률= [1.         0.96666667 0.93333333 0.9        0.83333333]\n",
      "ExtraTreesClassifier 의 정답률= [0.96666667 0.93333333 1.         0.93333333 0.93333333]\n",
      "GaussianNB 의 정답률= [0.96666667 0.96666667 1.         0.93333333 0.9       ]\n",
      "GaussianProcessClassifier 의 정답률= [0.96666667 0.93333333 1.         0.93333333 1.        ]\n",
      "GradientBoostingClassifier 의 정답률= [1.         0.96666667 0.9        0.96666667 1.        ]\n",
      "HistGradientBoostingClassifier 의 정답률= [0.96666667 0.9        0.96666667 1.         0.93333333]\n",
      "KNeighborsClassifier 의 정답률= [0.96666667 0.96666667 1.         0.96666667 1.        ]\n",
      "LabelPropagation 의 정답률= [0.93333333 0.96666667 0.96666667 0.96666667 0.96666667]\n",
      "LabelSpreading 의 정답률= [0.96666667 0.96666667 0.9        1.         0.96666667]\n",
      "LinearDiscriminantAnalysis 의 정답률= [1.         0.96666667 1.         0.93333333 1.        ]\n",
      "LinearSVC 의 정답률= [0.93333333 0.9        0.93333333 1.         0.9       ]\n",
      "LogisticRegression 의 정답률= [1.         0.93333333 1.         0.9        0.93333333]\n",
      "LogisticRegressionCV 의 정답률= [0.96666667 1.         1.         0.93333333 0.96666667]\n",
      "MLPClassifier 의 정답률= [1.         0.93333333 0.96666667 0.96666667 0.96666667]\n",
      "##### MultiOutputClassifier 에러 발생 __init__() missing 1 required positional argument: 'estimator'\n",
      "MultinomialNB 의 정답률= [1.         0.73333333 0.93333333 0.7        0.93333333]\n",
      "NearestCentroid 의 정답률= [0.83333333 0.9        0.93333333 1.         0.93333333]\n",
      "NuSVC 의 정답률= [0.93333333 0.96666667 1.         0.93333333 0.96666667]\n",
      "##### OneVsOneClassifier 에러 발생 __init__() missing 1 required positional argument: 'estimator'\n",
      "##### OneVsRestClassifier 에러 발생 __init__() missing 1 required positional argument: 'estimator'\n",
      "##### OutputCodeClassifier 에러 발생 __init__() missing 1 required positional argument: 'estimator'\n",
      "PassiveAggressiveClassifier 의 정답률= [0.93333333 0.9        0.8        0.66666667 0.8       ]\n",
      "Perceptron 의 정답률= [0.83333333 0.76666667 0.96666667 0.7        0.86666667]\n",
      "QuadraticDiscriminantAnalysis 의 정답률= [0.96666667 0.96666667 0.96666667 1.         1.        ]\n",
      "RadiusNeighborsClassifier 의 정답률= [0.93333333 1.         0.93333333 0.96666667 0.93333333]\n",
      "RandomForestClassifier 의 정답률= [0.93333333 0.96666667 0.96666667 0.96666667 0.93333333]\n",
      "RidgeClassifier 의 정답률= [0.8        0.83333333 0.9        0.9        0.76666667]\n",
      "RidgeClassifierCV 의 정답률= [0.86666667 0.86666667 0.73333333 0.9        0.83333333]\n",
      "SGDClassifier 의 정답률= [0.63333333 0.93333333 0.86666667 0.93333333 0.96666667]\n",
      "SVC 의 정답률= [1.         0.96666667 0.93333333 1.         0.93333333]\n",
      "##### StackingClassifier 에러 발생 __init__() missing 1 required positional argument: 'estimators'\n",
      "##### VotingClassifier 에러 발생 __init__() missing 1 required positional argument: 'estimators'\n"
     ]
    }
   ],
   "source": [
    "for(name, algorithm) in allAlgorithms:\n",
    "    try:\n",
    "        #각 알고리즘 객체 생성하기\n",
    "        clf = algorithm()\n",
    "    \n",
    "        #score 메서드를 가진 클래스를 대상으로 하기\n",
    "        if hasattr(clf, \"score\"):\n",
    "            #크로스 밸리데이션\n",
    "            score = cross_val_score(clf, x, y, cv=kfold_cv)\n",
    "            print(name, \"의 정답률=\", score)\n",
    "    except Exception as ex:\n",
    "        print(\"#####\", name, \"에러 발생\", ex)\n",
    "        pass"
   ]
  },
  {
   "cell_type": "code",
   "execution_count": null,
   "metadata": {},
   "outputs": [],
   "source": []
  }
 ],
 "metadata": {
  "kernelspec": {
   "display_name": "Python 3",
   "language": "python",
   "name": "python3"
  },
  "language_info": {
   "codemirror_mode": {
    "name": "ipython",
    "version": 3
   },
   "file_extension": ".py",
   "mimetype": "text/x-python",
   "name": "python",
   "nbconvert_exporter": "python",
   "pygments_lexer": "ipython3",
   "version": "3.8.3"
  }
 },
 "nbformat": 4,
 "nbformat_minor": 4
}
